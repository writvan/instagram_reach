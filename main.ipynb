{
 "cells": [
  {
   "cell_type": "code",
   "execution_count": 1,
   "metadata": {},
   "outputs": [
    {
     "name": "stdout",
     "output_type": "stream",
     "text": [
      "   Impressions  From Home  From Hashtags  From Explore  From Other  Saves  \\\n",
      "0         3920       2586           1028           619          56     98   \n",
      "1         5394       2727           1838          1174          78    194   \n",
      "2         4021       2085           1188             0         533     41   \n",
      "3         4528       2700            621           932          73    172   \n",
      "4         2518       1704            255           279          37     96   \n",
      "\n",
      "   Comments  Shares  Likes  Profile Visits  Follows  \\\n",
      "0         9       5    162              35        2   \n",
      "1         7      14    224              48       10   \n",
      "2        11       1    131              62       12   \n",
      "3        10       7    213              23        8   \n",
      "4         5       4    123               8        0   \n",
      "\n",
      "                                             Caption  \\\n",
      "0  Here are some of the most important data visua...   \n",
      "1  Here are some of the best data science project...   \n",
      "2  Learn how to train a machine learning model an...   \n",
      "3  Heres how you can write a Python program to d...   \n",
      "4  Plotting annotations while visualizing your da...   \n",
      "\n",
      "                                            Hashtags  \n",
      "0  #finance #money #business #investing #investme...  \n",
      "1  #healthcare #health #covid #data #datascience ...  \n",
      "2  #data #datascience #dataanalysis #dataanalytic...  \n",
      "3  #python #pythonprogramming #pythonprojects #py...  \n",
      "4  #datavisualization #datascience #data #dataana...  \n"
     ]
    }
   ],
   "source": [
    "# Import necessary libraries for data analysis and visualization\n",
    "import pandas as pd\n",
    "import numpy as np\n",
    "import matplotlib.pyplot as plt\n",
    "import seaborn as sns\n",
    "import plotly.express as px\n",
    "\n",
    "# Import the required functions from scikit-learn for machine learning\n",
    "from sklearn.model_selection import train_test_split\n",
    "from sklearn.linear_model import PassiveAggressiveRegressor\n",
    "\n",
    "# Read data from the \"Instagram.csv\" file and store it in a DataFrame called 'data'\n",
    "# 'encoding = 'latin1'' specifies the character encoding used in the CSV file\n",
    "data = pd.read_csv(\"Instagram.csv\", encoding='latin1')\n",
    "\n",
    "# Print the first few rows of the 'data' DataFrame to inspect the data\n",
    "print(data.head())\n"
   ]
  },
  {
   "cell_type": "code",
   "execution_count": 2,
   "metadata": {},
   "outputs": [
    {
     "name": "stdout",
     "output_type": "stream",
     "text": [
      "<class 'pandas.core.frame.DataFrame'>\n",
      "RangeIndex: 119 entries, 0 to 118\n",
      "Data columns (total 13 columns):\n",
      " #   Column          Non-Null Count  Dtype \n",
      "---  ------          --------------  ----- \n",
      " 0   Impressions     119 non-null    int64 \n",
      " 1   From Home       119 non-null    int64 \n",
      " 2   From Hashtags   119 non-null    int64 \n",
      " 3   From Explore    119 non-null    int64 \n",
      " 4   From Other      119 non-null    int64 \n",
      " 5   Saves           119 non-null    int64 \n",
      " 6   Comments        119 non-null    int64 \n",
      " 7   Shares          119 non-null    int64 \n",
      " 8   Likes           119 non-null    int64 \n",
      " 9   Profile Visits  119 non-null    int64 \n",
      " 10  Follows         119 non-null    int64 \n",
      " 11  Caption         119 non-null    object\n",
      " 12  Hashtags        119 non-null    object\n",
      "dtypes: int64(11), object(2)\n",
      "memory usage: 12.2+ KB\n"
     ]
    }
   ],
   "source": [
    "# Drop rows with missing values (NaN) from the DataFrame 'data'.\n",
    "# This step removes any rows where at least one column has a missing value.\n",
    "data = data.dropna()\n",
    "\n",
    "# Print information about the DataFrame 'data'.\n",
    "# The 'info()' method provides a summary of the DataFrame, including the number of non-null values\n",
    "# in each column, the data type of each column, and memory usage information.\n",
    "data.info()\n"
   ]
  },
  {
   "cell_type": "code",
   "execution_count": 3,
   "metadata": {},
   "outputs": [
    {
     "name": "stderr",
     "output_type": "stream",
     "text": [
      "C:\\Users\\writv\\AppData\\Local\\Temp\\ipykernel_15480\\2843123823.py:12: UserWarning: \n",
      "\n",
      "`distplot` is a deprecated function and will be removed in seaborn v0.14.0.\n",
      "\n",
      "Please adapt your code to use either `displot` (a figure-level function with\n",
      "similar flexibility) or `histplot` (an axes-level function for histograms).\n",
      "\n",
      "For a guide to updating your code to use the new functions, please see\n",
      "https://gist.github.com/mwaskom/de44147ed2974457ad6372750bbe5751\n",
      "\n",
      "  sns.distplot(data['From Home'])\n"
     ]
    },
    {
     "data": {
      "image/png": "[encoded data removed]",
      "text/plain": [
       "<Figure size 720x576 with 1 Axes>"
      ]
     },
     "metadata": {
      "needs_background": "light"
     },
     "output_type": "display_data"
    }
   ],
   "source": [
    "# Set the size of the figure to 10 inches in width and 8 inches in height.\n",
    "plt.figure(figsize=(10, 8))\n",
    "\n",
    "# Set the plotting style to 'fivethirtyeight' which is a popular pre-defined style for visualizations.\n",
    "plt.style.use('fivethirtyeight')\n",
    "\n",
    "# Set the title of the plot.\n",
    "plt.title(\"Distribution of Impressions From Home\")\n",
    "\n",
    "# Create a distribution plot (histogram) of the 'From Home' column from the 'data' DataFrame using Seaborn's 'distplot'.\n",
    "# A distribution plot shows the frequency distribution of a continuous variable.\n",
    "sns.distplot(data['From Home'])\n",
    "\n",
    "# Display the plot.\n",
    "plt.show()\n"
   ]
  },
  {
   "cell_type": "code",
   "execution_count": 4,
   "metadata": {},
   "outputs": [
    {
     "name": "stderr",
     "output_type": "stream",
     "text": [
      "C:\\Users\\writv\\AppData\\Local\\Temp\\ipykernel_15480\\511707984.py:9: UserWarning: \n",
      "\n",
      "`distplot` is a deprecated function and will be removed in seaborn v0.14.0.\n",
      "\n",
      "Please adapt your code to use either `displot` (a figure-level function with\n",
      "similar flexibility) or `histplot` (an axes-level function for histograms).\n",
      "\n",
      "For a guide to updating your code to use the new functions, please see\n",
      "https://gist.github.com/mwaskom/de44147ed2974457ad6372750bbe5751\n",
      "\n",
      "  sns.distplot(data['From Hashtags'])\n"
     ]
    },
    {
     "data": {
      "image/png": "[encoded data removed]",
      "text/plain": [
       "<Figure size 720x576 with 1 Axes>"
      ]
     },
     "metadata": {},
     "output_type": "display_data"
    }
   ],
   "source": [
    "# Set the size of the figure to 10 inches in width and 8 inches in height.\n",
    "plt.figure(figsize=(10, 8))\n",
    "\n",
    "# Set the title of the plot.\n",
    "plt.title(\"Distribution of Impressions From Hashtags\")\n",
    "\n",
    "# Create a distribution plot (histogram) of the 'From Hashtags' column from the 'data' DataFrame using Seaborn's 'distplot'.\n",
    "# A distribution plot shows the frequency distribution of a continuous variable.\n",
    "sns.distplot(data['From Hashtags'])\n",
    "\n",
    "# Display the plot.\n",
    "plt.show()\n"
   ]
  },
  {
   "cell_type": "code",
   "execution_count": 5,
   "metadata": {},
   "outputs": [
    {
     "name": "stderr",
     "output_type": "stream",
     "text": [
      "C:\\Users\\writv\\AppData\\Local\\Temp\\ipykernel_15480\\3291193895.py:9: UserWarning: \n",
      "\n",
      "`distplot` is a deprecated function and will be removed in seaborn v0.14.0.\n",
      "\n",
      "Please adapt your code to use either `displot` (a figure-level function with\n",
      "similar flexibility) or `histplot` (an axes-level function for histograms).\n",
      "\n",
      "For a guide to updating your code to use the new functions, please see\n",
      "https://gist.github.com/mwaskom/de44147ed2974457ad6372750bbe5751\n",
      "\n",
      "  sns.distplot(data['From Explore'])\n"
     ]
    },
    {
     "data": {
      "image/png": "[encoded data removed]",
      "text/plain": [
       "<Figure size 720x576 with 1 Axes>"
      ]
     },
     "metadata": {},
     "output_type": "display_data"
    }
   ],
   "source": [
    "# Set the size of the figure to 10 inches in width and 8 inches in height.\n",
    "plt.figure(figsize=(10, 8))\n",
    "\n",
    "# Set the title of the plot.\n",
    "plt.title(\"Distribution of Impressions From Explore\")\n",
    "\n",
    "# Create a distribution plot (histogram) of the 'From Explore' column from the 'data' DataFrame using Seaborn's 'distplot'.\n",
    "# A distribution plot shows the frequency distribution of a continuous variable.\n",
    "sns.distplot(data['From Explore'])\n",
    "\n",
    "# Display the plot.\n",
    "plt.show()\n"
   ]
  },
  {
   "cell_type": "code",
   "execution_count": 6,
   "metadata": {},
   "outputs": [
    {
     "data": {
      "application/vnd.plotly.v1+json": {
       "config": {
        "plotlyServerURL": "https://plot.ly"
       },
       "data": [
        {
         "domain": {
          "x": [
           0,
           1
          ],
          "y": [
           0,
           1
          ]
         },
         "hole": 0.5,
         "hovertemplate": "label=%{label}<br>value=%{value}<extra></extra>",
         "labels": [
          "From Home",
          "From Hashtags",
          "From Explore",
          "Other"
         ],
         "legendgroup": "",
         "name": "",
         "showlegend": true,
         "type": "pie",
         "values": [
          294619,
          224614,
          128294,
          20360
         ]
        }
       ],
       "layout": {
        "legend": {
         "tracegroupgap": 0
        },
        "template": {
         "data": {
          "bar": [
           {
            "error_x": {
             "color": "#2a3f5f"
            },
            "error_y": {
             "color": "#2a3f5f"
            },
            "marker": {
             "line": {
              "color": "#E5ECF6",
              "width": 0.5
             },
             "pattern": {
              "fillmode": "overlay",
              "size": 10,
              "solidity": 0.2
             }
            },
            "type": "bar"
           }
          ],
          "barpolar": [
           {
            "marker": {
             "line": {
              "color": "#E5ECF6",
              "width": 0.5
             },
             "pattern": {
              "fillmode": "overlay",
              "size": 10,
              "solidity": 0.2
             }
            },
            "type": "barpolar"
           }
          ],
          "carpet": [
           {
            "aaxis": {
             "endlinecolor": "#2a3f5f",
             "gridcolor": "white",
             "linecolor": "white",
             "minorgridcolor": "white",
             "startlinecolor": "#2a3f5f"
            },
            "baxis": {
             "endlinecolor": "#2a3f5f",
             "gridcolor": "white",
             "linecolor": "white",
             "minorgridcolor": "white",
             "startlinecolor": "#2a3f5f"
            },
            "type": "carpet"
           }
          ],
          "choropleth": [
           {
            "colorbar": {
             "outlinewidth": 0,
             "ticks": ""
            },
            "type": "choropleth"
           }
          ],
          "contour": [
           {
            "colorbar": {
             "outlinewidth": 0,
             "ticks": ""
            },
            "colorscale": [
             [
              0,
              "#0d0887"
             ],
             [
              0.1111111111111111,
              "#46039f"
             ],
             [
              0.2222222222222222,
              "#7201a8"
             ],
             [
              0.3333333333333333,
              "#9c179e"
             ],
             [
              0.4444444444444444,
              "#bd3786"
             ],
             [
              0.5555555555555556,
              "#d8576b"
             ],
             [
              0.6666666666666666,
              "#ed7953"
             ],
             [
              0.7777777777777778,
              "#fb9f3a"
             ],
             [
              0.8888888888888888,
              "#fdca26"
             ],
             [
              1,
              "#f0f921"
             ]
            ],
            "type": "contour"
           }
          ],
          "contourcarpet": [
           {
            "colorbar": {
             "outlinewidth": 0,
             "ticks": ""
            },
            "type": "contourcarpet"
           }
          ],
          "heatmap": [
           {
            "colorbar": {
             "outlinewidth": 0,
             "ticks": ""
            },
            "colorscale": [
             [
              0,
              "#0d0887"
             ],
             [
              0.1111111111111111,
              "#46039f"
             ],
             [
              0.2222222222222222,
              "#7201a8"
             ],
             [
              0.3333333333333333,
              "#9c179e"
             ],
             [
              0.4444444444444444,
              "#bd3786"
             ],
             [
              0.5555555555555556,
              "#d8576b"
             ],
             [
              0.6666666666666666,
              "#ed7953"
             ],
             [
              0.7777777777777778,
              "#fb9f3a"
             ],
             [
              0.8888888888888888,
              "#fdca26"
             ],
             [
              1,
              "#f0f921"
             ]
            ],
            "type": "heatmap"
           }
          ],
          "heatmapgl": [
           {
            "colorbar": {
             "outlinewidth": 0,
             "ticks": ""
            },
            "colorscale": [
             [
              0,
              "#0d0887"
             ],
             [
              0.1111111111111111,
              "#46039f"
             ],
             [
              0.2222222222222222,
              "#7201a8"
             ],
             [
              0.3333333333333333,
              "#9c179e"
             ],
             [
              0.4444444444444444,
              "#bd3786"
             ],
             [
              0.5555555555555556,
              "#d8576b"
             ],
             [
              0.6666666666666666,
              "#ed7953"
             ],
             [
              0.7777777777777778,
              "#fb9f3a"
             ],
             [
              0.8888888888888888,
              "#fdca26"
             ],
             [
              1,
              "#f0f921"
             ]
            ],
            "type": "heatmapgl"
           }
          ],
          "histogram": [
           {
            "marker": {
             "pattern": {
              "fillmode": "overlay",
              "size": 10,
              "solidity": 0.2
             }
            },
            "type": "histogram"
           }
          ],
          "histogram2d": [
           {
            "colorbar": {
             "outlinewidth": 0,
             "ticks": ""
            },
            "colorscale": [
             [
              0,
              "#0d0887"
             ],
             [
              0.1111111111111111,
              "#46039f"
             ],
             [
              0.2222222222222222,
              "#7201a8"
             ],
             [
              0.3333333333333333,
              "#9c179e"
             ],
             [
              0.4444444444444444,
              "#bd3786"
             ],
             [
              0.5555555555555556,
              "#d8576b"
             ],
             [
              0.6666666666666666,
              "#ed7953"
             ],
             [
              0.7777777777777778,
              "#fb9f3a"
             ],
             [
              0.8888888888888888,
              "#fdca26"
             ],
             [
              1,
              "#f0f921"
             ]
            ],
            "type": "histogram2d"
           }
          ],
          "histogram2dcontour": [
           {
            "colorbar": {
             "outlinewidth": 0,
             "ticks": ""
            },
            "colorscale": [
             [
              0,
              "#0d0887"
             ],
             [
              0.1111111111111111,
              "#46039f"
             ],
             [
              0.2222222222222222,
              "#7201a8"
             ],
             [
              0.3333333333333333,
              "#9c179e"
             ],
             [
              0.4444444444444444,
              "#bd3786"
             ],
             [
              0.5555555555555556,
              "#d8576b"
             ],
             [
              0.6666666666666666,
              "#ed7953"
             ],
             [
              0.7777777777777778,
              "#fb9f3a"
             ],
             [
              0.8888888888888888,
              "#fdca26"
             ],
             [
              1,
              "#f0f921"
             ]
            ],
            "type": "histogram2dcontour"
           }
          ],
          "mesh3d": [
           {
            "colorbar": {
             "outlinewidth": 0,
             "ticks": ""
            },
            "type": "mesh3d"
           }
          ],
          "parcoords": [
           {
            "line": {
             "colorbar": {
              "outlinewidth": 0,
              "ticks": ""
             }
            },
            "type": "parcoords"
           }
          ],
          "pie": [
           {
            "automargin": true,
            "type": "pie"
           }
          ],
          "scatter": [
           {
            "fillpattern": {
             "fillmode": "overlay",
             "size": 10,
             "solidity": 0.2
            },
            "type": "scatter"
           }
          ],
          "scatter3d": [
           {
            "line": {
             "colorbar": {
              "outlinewidth": 0,
              "ticks": ""
             }
            },
            "marker": {
             "colorbar": {
              "outlinewidth": 0,
              "ticks": ""
             }
            },
            "type": "scatter3d"
           }
          ],
          "scattercarpet": [
           {
            "marker": {
             "colorbar": {
              "outlinewidth": 0,
              "ticks": ""
             }
            },
            "type": "scattercarpet"
           }
          ],
          "scattergeo": [
           {
            "marker": {
             "colorbar": {
              "outlinewidth": 0,
              "ticks": ""
             }
            },
            "type": "scattergeo"
           }
          ],
          "scattergl": [
           {
            "marker": {
             "colorbar": {
              "outlinewidth": 0,
              "ticks": ""
             }
            },
            "type": "scattergl"
           }
          ],
          "scattermapbox": [
           {
            "marker": {
             "colorbar": {
              "outlinewidth": 0,
              "ticks": ""
             }
            },
            "type": "scattermapbox"
           }
          ],
          "scatterpolar": [
           {
            "marker": {
             "colorbar": {
              "outlinewidth": 0,
              "ticks": ""
             }
            },
            "type": "scatterpolar"
           }
          ],
          "scatterpolargl": [
           {
            "marker": {
             "colorbar": {
              "outlinewidth": 0,
              "ticks": ""
             }
            },
            "type": "scatterpolargl"
           }
          ],
          "scatterternary": [
           {
            "marker": {
             "colorbar": {
              "outlinewidth": 0,
              "ticks": ""
             }
            },
            "type": "scatterternary"
           }
          ],
          "surface": [
           {
            "colorbar": {
             "outlinewidth": 0,
             "ticks": ""
            },
            "colorscale": [
             [
              0,
              "#0d0887"
             ],
             [
              0.1111111111111111,
              "#46039f"
             ],
             [
              0.2222222222222222,
              "#7201a8"
             ],
             [
              0.3333333333333333,
              "#9c179e"
             ],
             [
              0.4444444444444444,
              "#bd3786"
             ],
             [
              0.5555555555555556,
              "#d8576b"
             ],
             [
              0.6666666666666666,
              "#ed7953"
             ],
             [
              0.7777777777777778,
              "#fb9f3a"
             ],
             [
              0.8888888888888888,
              "#fdca26"
             ],
             [
              1,
              "#f0f921"
             ]
            ],
            "type": "surface"
           }
          ],
          "table": [
           {
            "cells": {
             "fill": {
              "color": "#EBF0F8"
             },
             "line": {
              "color": "white"
             }
            },
            "header": {
             "fill": {
              "color": "#C8D4E3"
             },
             "line": {
              "color": "white"
             }
            },
            "type": "table"
           }
          ]
         },
         "layout": {
          "annotationdefaults": {
           "arrowcolor": "#2a3f5f",
           "arrowhead": 0,
           "arrowwidth": 1
          },
          "autotypenumbers": "strict",
          "coloraxis": {
           "colorbar": {
            "outlinewidth": 0,
            "ticks": ""
           }
          },
          "colorscale": {
           "diverging": [
            [
             0,
             "#8e0152"
            ],
            [
             0.1,
             "#c51b7d"
            ],
            [
             0.2,
             "#de77ae"
            ],
            [
             0.3,
             "#f1b6da"
            ],
            [
             0.4,
             "#fde0ef"
            ],
            [
             0.5,
             "#f7f7f7"
            ],
            [
             0.6,
             "#e6f5d0"
            ],
            [
             0.7,
             "#b8e186"
            ],
            [
             0.8,
             "#7fbc41"
            ],
            [
             0.9,
             "#4d9221"
            ],
            [
             1,
             "#276419"
            ]
           ],
           "sequential": [
            [
             0,
             "#0d0887"
            ],
            [
             0.1111111111111111,
             "#46039f"
            ],
            [
             0.2222222222222222,
             "#7201a8"
            ],
            [
             0.3333333333333333,
             "#9c179e"
            ],
            [
             0.4444444444444444,
             "#bd3786"
            ],
            [
             0.5555555555555556,
             "#d8576b"
            ],
            [
             0.6666666666666666,
             "#ed7953"
            ],
            [
             0.7777777777777778,
             "#fb9f3a"
            ],
            [
             0.8888888888888888,
             "#fdca26"
            ],
            [
             1,
             "#f0f921"
            ]
           ],
           "sequentialminus": [
            [
             0,
             "#0d0887"
            ],
            [
             0.1111111111111111,
             "#46039f"
            ],
            [
             0.2222222222222222,
             "#7201a8"
            ],
            [
             0.3333333333333333,
             "#9c179e"
            ],
            [
             0.4444444444444444,
             "#bd3786"
            ],
            [
             0.5555555555555556,
             "#d8576b"
            ],
            [
             0.6666666666666666,
             "#ed7953"
            ],
            [
             0.7777777777777778,
             "#fb9f3a"
            ],
            [
             0.8888888888888888,
             "#fdca26"
            ],
            [
             1,
             "#f0f921"
            ]
           ]
          },
          "colorway": [
           "#636efa",
           "#EF553B",
           "#00cc96",
           "#ab63fa",
           "#FFA15A",
           "#19d3f3",
           "#FF6692",
           "#B6E880",
           "#FF97FF",
           "#FECB52"
          ],
          "font": {
           "color": "#2a3f5f"
          },
          "geo": {
           "bgcolor": "white",
           "lakecolor": "white",
           "landcolor": "#E5ECF6",
           "showlakes": true,
           "showland": true,
           "subunitcolor": "white"
          },
          "hoverlabel": {
           "align": "left"
          },
          "hovermode": "closest",
          "mapbox": {
           "style": "light"
          },
          "paper_bgcolor": "white",
          "plot_bgcolor": "#E5ECF6",
          "polar": {
           "angularaxis": {
            "gridcolor": "white",
            "linecolor": "white",
            "ticks": ""
           },
           "bgcolor": "#E5ECF6",
           "radialaxis": {
            "gridcolor": "white",
            "linecolor": "white",
            "ticks": ""
           }
          },
          "scene": {
           "xaxis": {
            "backgroundcolor": "#E5ECF6",
            "gridcolor": "white",
            "gridwidth": 2,
            "linecolor": "white",
            "showbackground": true,
            "ticks": "",
            "zerolinecolor": "white"
           },
           "yaxis": {
            "backgroundcolor": "#E5ECF6",
            "gridcolor": "white",
            "gridwidth": 2,
            "linecolor": "white",
            "showbackground": true,
            "ticks": "",
            "zerolinecolor": "white"
           },
           "zaxis": {
            "backgroundcolor": "#E5ECF6",
            "gridcolor": "white",
            "gridwidth": 2,
            "linecolor": "white",
            "showbackground": true,
            "ticks": "",
            "zerolinecolor": "white"
           }
          },
          "shapedefaults": {
           "line": {
            "color": "#2a3f5f"
           }
          },
          "ternary": {
           "aaxis": {
            "gridcolor": "white",
            "linecolor": "white",
            "ticks": ""
           },
           "baxis": {
            "gridcolor": "white",
            "linecolor": "white",
            "ticks": ""
           },
           "bgcolor": "#E5ECF6",
           "caxis": {
            "gridcolor": "white",
            "linecolor": "white",
            "ticks": ""
           }
          },
          "title": {
           "x": 0.05
          },
          "xaxis": {
           "automargin": true,
           "gridcolor": "white",
           "linecolor": "white",
           "ticks": "",
           "title": {
            "standoff": 15
           },
           "zerolinecolor": "white",
           "zerolinewidth": 2
          },
          "yaxis": {
           "automargin": true,
           "gridcolor": "white",
           "linecolor": "white",
           "ticks": "",
           "title": {
            "standoff": 15
           },
           "zerolinecolor": "white",
           "zerolinewidth": 2
          }
         }
        },
        "title": {
         "text": "Impressions on Instagram Posts From Various Sources"
        }
       }
      }
     },
     "metadata": {},
     "output_type": "display_data"
    }
   ],
   "source": [
    "# Calculate the total impressions from each source: 'From Home', 'From Hashtags', 'From Explore', 'From Other'.\n",
    "home = data[\"From Home\"].sum()\n",
    "hashtags = data[\"From Hashtags\"].sum()\n",
    "explore = data[\"From Explore\"].sum()\n",
    "other = data[\"From Other\"].sum()\n",
    "\n",
    "# Create lists for labels and values to be used in the pie chart.\n",
    "labels = ['From Home', 'From Hashtags', 'From Explore', 'Other']\n",
    "values = [home, hashtags, explore, other]\n",
    "\n",
    "# Create a pie chart using Plotly Express (px.pie) to visualize the distribution of impressions from different sources.\n",
    "# The 'values' parameter specifies the values for each slice of the pie.\n",
    "# The 'names' parameter provides the corresponding labels for each slice.\n",
    "# The 'title' parameter sets the title of the pie chart.\n",
    "# The 'hole' parameter sets the size of the central hole in the pie, making it a doughnut chart.\n",
    "fig = px.pie(data, values=values, names=labels, title='Impressions on Instagram Posts From Various Sources', hole=0.5)\n",
    "\n",
    "# Display the pie chart.\n",
    "fig.show()\n"
   ]
  },
  {
   "cell_type": "code",
   "execution_count": 7,
   "metadata": {},
   "outputs": [
    {
     "data": {
      "application/vnd.plotly.v1+json": {
       "config": {
        "plotlyServerURL": "https://plot.ly"
       },
       "data": [
        {
         "hovertemplate": "Impressions=%{x}<br>Likes=%{marker.size}<extra></extra>",
         "legendgroup": "",
         "marker": {
          "color": "#636efa",
          "size": [
           162,
           224,
           131,
           213,
           123,
           144,
           76,
           124,
           159,
           191,
           81,
           151,
           162,
           142,
           294,
           159,
           205,
           121,
           151,
           72,
           76,
           91,
           195,
           129,
           160,
           175,
           147,
           114,
           151,
           92,
           214,
           150,
           122,
           152,
           196,
           86,
           85,
           156,
           72,
           82,
           416,
           180,
           150,
           127,
           167,
           225,
           137,
           114,
           263,
           328,
           126,
           236,
           99,
           212,
           297,
           142,
           186,
           112,
           149,
           132,
           115,
           248,
           178,
           107,
           269,
           96,
           134,
           301,
           187,
           94,
           114,
           96,
           138,
           122,
           257,
           95,
           244,
           190,
           118,
           178,
           170,
           250,
           159,
           205,
           121,
           151,
           72,
           137,
           114,
           263,
           328,
           126,
           129,
           160,
           175,
           147,
           114,
           151,
           92,
           275,
           192,
           203,
           145,
           168,
           194,
           250,
           171,
           416,
           249,
           308,
           163,
           86,
           210,
           172,
           373,
           148,
           92,
           549,
           443
          ],
          "sizemode": "area",
          "sizeref": 1.3725,
          "symbol": "circle"
         },
         "mode": "markers",
         "name": "",
         "orientation": "v",
         "showlegend": false,
         "type": "scatter",
         "x": [
          3920,
          5394,
          4021,
          4528,
          2518,
          3884,
          2621,
          3541,
          3749,
          4115,
          2218,
          3234,
          4344,
          3216,
          9453,
          5055,
          4002,
          3169,
          6168,
          2407,
          2064,
          3973,
          7281,
          3052,
          4628,
          4082,
          5394,
          2766,
          3924,
          3015,
          6666,
          3854,
          4355,
          4343,
          6108,
          2523,
          2327,
          3990,
          2191,
          1941,
          16062,
          4998,
          4289,
          3880,
          3786,
          4298,
          3630,
          2826,
          7407,
          10386,
          2998,
          7018,
          2941,
          6432,
          10667,
          3988,
          4978,
          3388,
          4467,
          3246,
          5072,
          6339,
          4239,
          3454,
          7571,
          3333,
          3818,
          10933,
          5058,
          3601,
          3480,
          3525,
          3606,
          5542,
          6559,
          3623,
          10493,
          4446,
          2957,
          5538,
          4681,
          5273,
          5055,
          4002,
          3169,
          6168,
          2407,
          3630,
          2826,
          7407,
          10386,
          2998,
          3052,
          4628,
          4082,
          5394,
          2766,
          3924,
          3015,
          5409,
          5323,
          8001,
          4150,
          4609,
          6348,
          11068,
          7231,
          17396,
          6814,
          17713,
          5563,
          4842,
          11149,
          10206,
          13700,
          5731,
          4139,
          32695,
          36919
         ],
         "xaxis": "x",
         "y": [
          162,
          224,
          131,
          213,
          123,
          144,
          76,
          124,
          159,
          191,
          81,
          151,
          162,
          142,
          294,
          159,
          205,
          121,
          151,
          72,
          76,
          91,
          195,
          129,
          160,
          175,
          147,
          114,
          151,
          92,
          214,
          150,
          122,
          152,
          196,
          86,
          85,
          156,
          72,
          82,
          416,
          180,
          150,
          127,
          167,
          225,
          137,
          114,
          263,
          328,
          126,
          236,
          99,
          212,
          297,
          142,
          186,
          112,
          149,
          132,
          115,
          248,
          178,
          107,
          269,
          96,
          134,
          301,
          187,
          94,
          114,
          96,
          138,
          122,
          257,
          95,
          244,
          190,
          118,
          178,
          170,
          250,
          159,
          205,
          121,
          151,
          72,
          137,
          114,
          263,
          328,
          126,
          129,
          160,
          175,
          147,
          114,
          151,
          92,
          275,
          192,
          203,
          145,
          168,
          194,
          250,
          171,
          416,
          249,
          308,
          163,
          86,
          210,
          172,
          373,
          148,
          92,
          549,
          443
         ],
         "yaxis": "y"
        },
        {
         "hovertemplate": "<b>OLS trendline</b><br>Likes = 0.0144533 * Impressions + 91.3401<br>R<sup>2</sup>=0.722220<br><br>Impressions=%{x}<br>Likes=%{y} <b>(trend)</b><extra></extra>",
         "legendgroup": "",
         "marker": {
          "color": "#636efa",
          "symbol": "circle"
         },
         "mode": "lines",
         "name": "",
         "showlegend": false,
         "type": "scatter",
         "x": [
          1941,
          2064,
          2191,
          2218,
          2327,
          2407,
          2407,
          2518,
          2523,
          2621,
          2766,
          2766,
          2826,
          2826,
          2941,
          2957,
          2998,
          2998,
          3015,
          3015,
          3052,
          3052,
          3169,
          3169,
          3216,
          3234,
          3246,
          3333,
          3388,
          3454,
          3480,
          3525,
          3541,
          3601,
          3606,
          3623,
          3630,
          3630,
          3749,
          3786,
          3818,
          3854,
          3880,
          3884,
          3920,
          3924,
          3924,
          3973,
          3988,
          3990,
          4002,
          4002,
          4021,
          4082,
          4082,
          4115,
          4139,
          4150,
          4239,
          4289,
          4298,
          4343,
          4344,
          4355,
          4446,
          4467,
          4528,
          4609,
          4628,
          4628,
          4681,
          4842,
          4978,
          4998,
          5055,
          5055,
          5058,
          5072,
          5273,
          5323,
          5394,
          5394,
          5394,
          5409,
          5538,
          5542,
          5563,
          5731,
          6108,
          6168,
          6168,
          6339,
          6348,
          6432,
          6559,
          6666,
          6814,
          7018,
          7231,
          7281,
          7407,
          7407,
          7571,
          8001,
          9453,
          10206,
          10386,
          10386,
          10493,
          10667,
          10933,
          11068,
          11149,
          13700,
          16062,
          17396,
          17713,
          32695,
          36919
         ],
         "xaxis": "x",
         "y": [
          119.393918281271,
          121.1716724776395,
          123.00723981860537,
          123.3974785446375,
          124.97288673491528,
          126.12914962686229,
          126.12914962686229,
          127.73346438943875,
          127.80573082018545,
          129.2221528628205,
          131.31787935447448,
          131.31787935447448,
          132.18507652343473,
          132.18507652343473,
          133.84720443060854,
          134.07845700899793,
          134.67104174112077,
          134.67104174112077,
          134.9167476056595,
          134.9167476056595,
          135.451519193185,
          135.451519193185,
          137.1425536726575,
          137.1425536726575,
          137.82185812167637,
          138.08201727236445,
          138.2554567061565,
          139.51289260114885,
          140.30782333936241,
          141.26174022521872,
          141.63752566510146,
          142.28792354182167,
          142.51917612021106,
          143.38637328917133,
          143.458639719918,
          143.70434558445675,
          143.80551858750212,
          143.80551858750212,
          145.52545963927327,
          146.06023122679878,
          146.52273638357758,
          147.04305468495372,
          147.4188401248365,
          147.47665326943385,
          147.99697157081,
          148.05478471540735,
          148.05478471540735,
          148.7629957367249,
          148.97979502896496,
          149.00870160126362,
          149.18214103505568,
          149.18214103505568,
          149.45675347189308,
          150.33840392700267,
          150.33840392700267,
          150.81536236993082,
          151.16224123751493,
          151.32122738515764,
          152.60756985244868,
          153.33023415991556,
          153.4603137352596,
          154.11071161197978,
          154.12516489812913,
          154.28415104577184,
          155.59940008536154,
          155.90291909449763,
          156.78456954960723,
          157.95528572770357,
          158.229898164541,
          158.229898164541,
          158.99592233045587,
          161.32290140049923,
          163.2885483168091,
          163.5776140397959,
          164.40145135030812,
          164.40145135030812,
          164.44481120875614,
          164.64715721484686,
          167.55226773086372,
          168.27493203833058,
          169.30111535493353,
          169.30111535493353,
          169.30111535493353,
          169.5179146471736,
          171.38238856043816,
          171.44020170503552,
          171.7437207141716,
          174.1718727872603,
          179.62076166556056,
          180.4879588345208,
          180.4879588345208,
          182.95947076605754,
          183.08955034140155,
          184.30362637794593,
          186.13919371891177,
          187.6856953368909,
          189.82478168699288,
          192.77325206145773,
          195.8518020112666,
          196.5744663187335,
          198.39558037355005,
          198.39558037355005,
          200.7659193020414,
          206.98083234625653,
          227.96700383509466,
          238.85032830554584,
          241.45191981242658,
          241.45191981242658,
          242.9984214304057,
          245.51329322039044,
          249.35786733611423,
          251.30906096627479,
          252.47977714437113,
          289.3501101113312,
          323.4887719960665,
          342.7694557192828,
          347.3511474286228,
          563.890280517998,
          624.9409612127997
         ],
         "yaxis": "y"
        }
       ],
       "layout": {
        "legend": {
         "itemsizing": "constant",
         "tracegroupgap": 0
        },
        "template": {
         "data": {
          "bar": [
           {
            "error_x": {
             "color": "#2a3f5f"
            },
            "error_y": {
             "color": "#2a3f5f"
            },
            "marker": {
             "line": {
              "color": "#E5ECF6",
              "width": 0.5
             },
             "pattern": {
              "fillmode": "overlay",
              "size": 10,
              "solidity": 0.2
             }
            },
            "type": "bar"
           }
          ],
          "barpolar": [
           {
            "marker": {
             "line": {
              "color": "#E5ECF6",
              "width": 0.5
             },
             "pattern": {
              "fillmode": "overlay",
              "size": 10,
              "solidity": 0.2
             }
            },
            "type": "barpolar"
           }
          ],
          "carpet": [
           {
            "aaxis": {
             "endlinecolor": "#2a3f5f",
             "gridcolor": "white",
             "linecolor": "white",
             "minorgridcolor": "white",
             "startlinecolor": "#2a3f5f"
            },
            "baxis": {
             "endlinecolor": "#2a3f5f",
             "gridcolor": "white",
             "linecolor": "white",
             "minorgridcolor": "white",
             "startlinecolor": "#2a3f5f"
            },
            "type": "carpet"
           }
          ],
          "choropleth": [
           {
            "colorbar": {
             "outlinewidth": 0,
             "ticks": ""
            },
            "type": "choropleth"
           }
          ],
          "contour": [
           {
            "colorbar": {
             "outlinewidth": 0,
             "ticks": ""
            },
            "colorscale": [
             [
              0,
              "#0d0887"
             ],
             [
              0.1111111111111111,
              "#46039f"
             ],
             [
              0.2222222222222222,
              "#7201a8"
             ],
             [
              0.3333333333333333,
              "#9c179e"
             ],
             [
              0.4444444444444444,
              "#bd3786"
             ],
             [
              0.5555555555555556,
              "#d8576b"
             ],
             [
              0.6666666666666666,
              "#ed7953"
             ],
             [
              0.7777777777777778,
              "#fb9f3a"
             ],
             [
              0.8888888888888888,
              "#fdca26"
             ],
             [
              1,
              "#f0f921"
             ]
            ],
            "type": "contour"
           }
          ],
          "contourcarpet": [
           {
            "colorbar": {
             "outlinewidth": 0,
             "ticks": ""
            },
            "type": "contourcarpet"
           }
          ],
          "heatmap": [
           {
            "colorbar": {
             "outlinewidth": 0,
             "ticks": ""
            },
            "colorscale": [
             [
              0,
              "#0d0887"
             ],
             [
              0.1111111111111111,
              "#46039f"
             ],
             [
              0.2222222222222222,
              "#7201a8"
             ],
             [
              0.3333333333333333,
              "#9c179e"
             ],
             [
              0.4444444444444444,
              "#bd3786"
             ],
             [
              0.5555555555555556,
              "#d8576b"
             ],
             [
              0.6666666666666666,
              "#ed7953"
             ],
             [
              0.7777777777777778,
              "#fb9f3a"
             ],
             [
              0.8888888888888888,
              "#fdca26"
             ],
             [
              1,
              "#f0f921"
             ]
            ],
            "type": "heatmap"
           }
          ],
          "heatmapgl": [
           {
            "colorbar": {
             "outlinewidth": 0,
             "ticks": ""
            },
            "colorscale": [
             [
              0,
              "#0d0887"
             ],
             [
              0.1111111111111111,
              "#46039f"
             ],
             [
              0.2222222222222222,
              "#7201a8"
             ],
             [
              0.3333333333333333,
              "#9c179e"
             ],
             [
              0.4444444444444444,
              "#bd3786"
             ],
             [
              0.5555555555555556,
              "#d8576b"
             ],
             [
              0.6666666666666666,
              "#ed7953"
             ],
             [
              0.7777777777777778,
              "#fb9f3a"
             ],
             [
              0.8888888888888888,
              "#fdca26"
             ],
             [
              1,
              "#f0f921"
             ]
            ],
            "type": "heatmapgl"
           }
          ],
          "histogram": [
           {
            "marker": {
             "pattern": {
              "fillmode": "overlay",
              "size": 10,
              "solidity": 0.2
             }
            },
            "type": "histogram"
           }
          ],
          "histogram2d": [
           {
            "colorbar": {
             "outlinewidth": 0,
             "ticks": ""
            },
            "colorscale": [
             [
              0,
              "#0d0887"
             ],
             [
              0.1111111111111111,
              "#46039f"
             ],
             [
              0.2222222222222222,
              "#7201a8"
             ],
             [
              0.3333333333333333,
              "#9c179e"
             ],
             [
              0.4444444444444444,
              "#bd3786"
             ],
             [
              0.5555555555555556,
              "#d8576b"
             ],
             [
              0.6666666666666666,
              "#ed7953"
             ],
             [
              0.7777777777777778,
              "#fb9f3a"
             ],
             [
              0.8888888888888888,
              "#fdca26"
             ],
             [
              1,
              "#f0f921"
             ]
            ],
            "type": "histogram2d"
           }
          ],
          "histogram2dcontour": [
           {
            "colorbar": {
             "outlinewidth": 0,
             "ticks": ""
            },
            "colorscale": [
             [
              0,
              "#0d0887"
             ],
             [
              0.1111111111111111,
              "#46039f"
             ],
             [
              0.2222222222222222,
              "#7201a8"
             ],
             [
              0.3333333333333333,
              "#9c179e"
             ],
             [
              0.4444444444444444,
              "#bd3786"
             ],
             [
              0.5555555555555556,
              "#d8576b"
             ],
             [
              0.6666666666666666,
              "#ed7953"
             ],
             [
              0.7777777777777778,
              "#fb9f3a"
             ],
             [
              0.8888888888888888,
              "#fdca26"
             ],
             [
              1,
              "#f0f921"
             ]
            ],
            "type": "histogram2dcontour"
           }
          ],
          "mesh3d": [
           {
            "colorbar": {
             "outlinewidth": 0,
             "ticks": ""
            },
            "type": "mesh3d"
           }
          ],
          "parcoords": [
           {
            "line": {
             "colorbar": {
              "outlinewidth": 0,
              "ticks": ""
             }
            },
            "type": "parcoords"
           }
          ],
          "pie": [
           {
            "automargin": true,
            "type": "pie"
           }
          ],
          "scatter": [
           {
            "fillpattern": {
             "fillmode": "overlay",
             "size": 10,
             "solidity": 0.2
            },
            "type": "scatter"
           }
          ],
          "scatter3d": [
           {
            "line": {
             "colorbar": {
              "outlinewidth": 0,
              "ticks": ""
             }
            },
            "marker": {
             "colorbar": {
              "outlinewidth": 0,
              "ticks": ""
             }
            },
            "type": "scatter3d"
           }
          ],
          "scattercarpet": [
           {
            "marker": {
             "colorbar": {
              "outlinewidth": 0,
              "ticks": ""
             }
            },
            "type": "scattercarpet"
           }
          ],
          "scattergeo": [
           {
            "marker": {
             "colorbar": {
              "outlinewidth": 0,
              "ticks": ""
             }
            },
            "type": "scattergeo"
           }
          ],
          "scattergl": [
           {
            "marker": {
             "colorbar": {
              "outlinewidth": 0,
              "ticks": ""
             }
            },
            "type": "scattergl"
           }
          ],
          "scattermapbox": [
           {
            "marker": {
             "colorbar": {
              "outlinewidth": 0,
              "ticks": ""
             }
            },
            "type": "scattermapbox"
           }
          ],
          "scatterpolar": [
           {
            "marker": {
             "colorbar": {
              "outlinewidth": 0,
              "ticks": ""
             }
            },
            "type": "scatterpolar"
           }
          ],
          "scatterpolargl": [
           {
            "marker": {
             "colorbar": {
              "outlinewidth": 0,
              "ticks": ""
             }
            },
            "type": "scatterpolargl"
           }
          ],
          "scatterternary": [
           {
            "marker": {
             "colorbar": {
              "outlinewidth": 0,
              "ticks": ""
             }
            },
            "type": "scatterternary"
           }
          ],
          "surface": [
           {
            "colorbar": {
             "outlinewidth": 0,
             "ticks": ""
            },
            "colorscale": [
             [
              0,
              "#0d0887"
             ],
             [
              0.1111111111111111,
              "#46039f"
             ],
             [
              0.2222222222222222,
              "#7201a8"
             ],
             [
              0.3333333333333333,
              "#9c179e"
             ],
             [
              0.4444444444444444,
              "#bd3786"
             ],
             [
              0.5555555555555556,
              "#d8576b"
             ],
             [
              0.6666666666666666,
              "#ed7953"
             ],
             [
              0.7777777777777778,
              "#fb9f3a"
             ],
             [
              0.8888888888888888,
              "#fdca26"
             ],
             [
              1,
              "#f0f921"
             ]
            ],
            "type": "surface"
           }
          ],
          "table": [
           {
            "cells": {
             "fill": {
              "color": "#EBF0F8"
             },
             "line": {
              "color": "white"
             }
            },
            "header": {
             "fill": {
              "color": "#C8D4E3"
             },
             "line": {
              "color": "white"
             }
            },
            "type": "table"
           }
          ]
         },
         "layout": {
          "annotationdefaults": {
           "arrowcolor": "#2a3f5f",
           "arrowhead": 0,
           "arrowwidth": 1
          },
          "autotypenumbers": "strict",
          "coloraxis": {
           "colorbar": {
            "outlinewidth": 0,
            "ticks": ""
           }
          },
          "colorscale": {
           "diverging": [
            [
             0,
             "#8e0152"
            ],
            [
             0.1,
             "#c51b7d"
            ],
            [
             0.2,
             "#de77ae"
            ],
            [
             0.3,
             "#f1b6da"
            ],
            [
             0.4,
             "#fde0ef"
            ],
            [
             0.5,
             "#f7f7f7"
            ],
            [
             0.6,
             "#e6f5d0"
            ],
            [
             0.7,
             "#b8e186"
            ],
            [
             0.8,
             "#7fbc41"
            ],
            [
             0.9,
             "#4d9221"
            ],
            [
             1,
             "#276419"
            ]
           ],
           "sequential": [
            [
             0,
             "#0d0887"
            ],
            [
             0.1111111111111111,
             "#46039f"
            ],
            [
             0.2222222222222222,
             "#7201a8"
            ],
            [
             0.3333333333333333,
             "#9c179e"
            ],
            [
             0.4444444444444444,
             "#bd3786"
            ],
            [
             0.5555555555555556,
             "#d8576b"
            ],
            [
             0.6666666666666666,
             "#ed7953"
            ],
            [
             0.7777777777777778,
             "#fb9f3a"
            ],
            [
             0.8888888888888888,
             "#fdca26"
            ],
            [
             1,
             "#f0f921"
            ]
           ],
           "sequentialminus": [
            [
             0,
             "#0d0887"
            ],
            [
             0.1111111111111111,
             "#46039f"
            ],
            [
             0.2222222222222222,
             "#7201a8"
            ],
            [
             0.3333333333333333,
             "#9c179e"
            ],
            [
             0.4444444444444444,
             "#bd3786"
            ],
            [
             0.5555555555555556,
             "#d8576b"
            ],
            [
             0.6666666666666666,
             "#ed7953"
            ],
            [
             0.7777777777777778,
             "#fb9f3a"
            ],
            [
             0.8888888888888888,
             "#fdca26"
            ],
            [
             1,
             "#f0f921"
            ]
           ]
          },
          "colorway": [
           "#636efa",
           "#EF553B",
           "#00cc96",
           "#ab63fa",
           "#FFA15A",
           "#19d3f3",
           "#FF6692",
           "#B6E880",
           "#FF97FF",
           "#FECB52"
          ],
          "font": {
           "color": "#2a3f5f"
          },
          "geo": {
           "bgcolor": "white",
           "lakecolor": "white",
           "landcolor": "#E5ECF6",
           "showlakes": true,
           "showland": true,
           "subunitcolor": "white"
          },
          "hoverlabel": {
           "align": "left"
          },
          "hovermode": "closest",
          "mapbox": {
           "style": "light"
          },
          "paper_bgcolor": "white",
          "plot_bgcolor": "#E5ECF6",
          "polar": {
           "angularaxis": {
            "gridcolor": "white",
            "linecolor": "white",
            "ticks": ""
           },
           "bgcolor": "#E5ECF6",
           "radialaxis": {
            "gridcolor": "white",
            "linecolor": "white",
            "ticks": ""
           }
          },
          "scene": {
           "xaxis": {
            "backgroundcolor": "#E5ECF6",
            "gridcolor": "white",
            "gridwidth": 2,
            "linecolor": "white",
            "showbackground": true,
            "ticks": "",
            "zerolinecolor": "white"
           },
           "yaxis": {
            "backgroundcolor": "#E5ECF6",
            "gridcolor": "white",
            "gridwidth": 2,
            "linecolor": "white",
            "showbackground": true,
            "ticks": "",
            "zerolinecolor": "white"
           },
           "zaxis": {
            "backgroundcolor": "#E5ECF6",
            "gridcolor": "white",
            "gridwidth": 2,
            "linecolor": "white",
            "showbackground": true,
            "ticks": "",
            "zerolinecolor": "white"
           }
          },
          "shapedefaults": {
           "line": {
            "color": "#2a3f5f"
           }
          },
          "ternary": {
           "aaxis": {
            "gridcolor": "white",
            "linecolor": "white",
            "ticks": ""
           },
           "baxis": {
            "gridcolor": "white",
            "linecolor": "white",
            "ticks": ""
           },
           "bgcolor": "#E5ECF6",
           "caxis": {
            "gridcolor": "white",
            "linecolor": "white",
            "ticks": ""
           }
          },
          "title": {
           "x": 0.05
          },
          "xaxis": {
           "automargin": true,
           "gridcolor": "white",
           "linecolor": "white",
           "ticks": "",
           "title": {
            "standoff": 15
           },
           "zerolinecolor": "white",
           "zerolinewidth": 2
          },
          "yaxis": {
           "automargin": true,
           "gridcolor": "white",
           "linecolor": "white",
           "ticks": "",
           "title": {
            "standoff": 15
           },
           "zerolinecolor": "white",
           "zerolinewidth": 2
          }
         }
        },
        "title": {
         "text": "Relationship Between Likes and Impressions"
        },
        "xaxis": {
         "anchor": "y",
         "domain": [
          0,
          1
         ],
         "title": {
          "text": "Impressions"
         }
        },
        "yaxis": {
         "anchor": "x",
         "domain": [
          0,
          1
         ],
         "title": {
          "text": "Likes"
         }
        }
       }
      }
     },
     "metadata": {},
     "output_type": "display_data"
    }
   ],
   "source": [
    "# Create a scatter plot using Plotly Express (px.scatter) to visualize the relationship between 'Impressions' and 'Likes'.\n",
    "# The 'data_frame' parameter specifies the DataFrame to be used for plotting, which is 'data'.\n",
    "# The 'x' parameter specifies the column to be used as the x-axis values, which is 'Impressions'.\n",
    "# The 'y' parameter specifies the column to be used as the y-axis values, which is 'Likes'.\n",
    "# The 'size' parameter sets the size of the markers based on the 'Likes' values, making larger markers for more likes.\n",
    "# The 'trendline' parameter adds a trendline to the scatter plot using ordinary least squares (OLS) linear regression.\n",
    "# The 'title' parameter sets the title of the scatter plot.\n",
    "figure = px.scatter(data_frame=data, x=\"Impressions\", y=\"Likes\", size=\"Likes\", trendline=\"ols\", \n",
    "                    title=\"Relationship Between Likes and Impressions\")\n",
    "\n",
    "# Display the scatter plot.\n",
    "figure.show()\n"
   ]
  },
  {
   "cell_type": "code",
   "execution_count": 8,
   "metadata": {},
   "outputs": [
    {
     "data": {
      "application/vnd.plotly.v1+json": {
       "config": {
        "plotlyServerURL": "https://plot.ly"
       },
       "data": [
        {
         "hovertemplate": "Impressions=%{x}<br>Comments=%{marker.size}<extra></extra>",
         "legendgroup": "",
         "marker": {
          "color": "#636efa",
          "size": [
           9,
           7,
           11,
           10,
           5,
           7,
           5,
           4,
           6,
           6,
           6,
           8,
           7,
           5,
           6,
           7,
           17,
           8,
           6,
           8,
           4,
           3,
           7,
           5,
           8,
           11,
           19,
           10,
           11,
           11,
           9,
           11,
           8,
           6,
           7,
           6,
           3,
           4,
           2,
           6,
           6,
           4,
           8,
           4,
           9,
           6,
           4,
           3,
           5,
           8,
           4,
           9,
           2,
           11,
           13,
           6,
           9,
           1,
           3,
           5,
           7,
           8,
           2,
           0,
           7,
           3,
           6,
           13,
           9,
           0,
           1,
           5,
           5,
           7,
           8,
           3,
           9,
           6,
           4,
           6,
           7,
           9,
           7,
           17,
           8,
           6,
           8,
           4,
           3,
           5,
           8,
           4,
           5,
           8,
           11,
           19,
           10,
           11,
           11,
           10,
           6,
           8,
           4,
           1,
           4,
           7,
           8,
           7,
           8,
           3,
           5,
           6,
           4,
           10,
           2,
           4,
           0,
           2,
           5
          ],
          "sizemode": "area",
          "sizeref": 0.0475,
          "symbol": "circle"
         },
         "mode": "markers",
         "name": "",
         "orientation": "v",
         "showlegend": false,
         "type": "scatter",
         "x": [
          3920,
          5394,
          4021,
          4528,
          2518,
          3884,
          2621,
          3541,
          3749,
          4115,
          2218,
          3234,
          4344,
          3216,
          9453,
          5055,
          4002,
          3169,
          6168,
          2407,
          2064,
          3973,
          7281,
          3052,
          4628,
          4082,
          5394,
          2766,
          3924,
          3015,
          6666,
          3854,
          4355,
          4343,
          6108,
          2523,
          2327,
          3990,
          2191,
          1941,
          16062,
          4998,
          4289,
          3880,
          3786,
          4298,
          3630,
          2826,
          7407,
          10386,
          2998,
          7018,
          2941,
          6432,
          10667,
          3988,
          4978,
          3388,
          4467,
          3246,
          5072,
          6339,
          4239,
          3454,
          7571,
          3333,
          3818,
          10933,
          5058,
          3601,
          3480,
          3525,
          3606,
          5542,
          6559,
          3623,
          10493,
          4446,
          2957,
          5538,
          4681,
          5273,
          5055,
          4002,
          3169,
          6168,
          2407,
          3630,
          2826,
          7407,
          10386,
          2998,
          3052,
          4628,
          4082,
          5394,
          2766,
          3924,
          3015,
          5409,
          5323,
          8001,
          4150,
          4609,
          6348,
          11068,
          7231,
          17396,
          6814,
          17713,
          5563,
          4842,
          11149,
          10206,
          13700,
          5731,
          4139,
          32695,
          36919
         ],
         "xaxis": "x",
         "y": [
          9,
          7,
          11,
          10,
          5,
          7,
          5,
          4,
          6,
          6,
          6,
          8,
          7,
          5,
          6,
          7,
          17,
          8,
          6,
          8,
          4,
          3,
          7,
          5,
          8,
          11,
          19,
          10,
          11,
          11,
          9,
          11,
          8,
          6,
          7,
          6,
          3,
          4,
          2,
          6,
          6,
          4,
          8,
          4,
          9,
          6,
          4,
          3,
          5,
          8,
          4,
          9,
          2,
          11,
          13,
          6,
          9,
          1,
          3,
          5,
          7,
          8,
          2,
          0,
          7,
          3,
          6,
          13,
          9,
          0,
          1,
          5,
          5,
          7,
          8,
          3,
          9,
          6,
          4,
          6,
          7,
          9,
          7,
          17,
          8,
          6,
          8,
          4,
          3,
          5,
          8,
          4,
          5,
          8,
          11,
          19,
          10,
          11,
          11,
          10,
          6,
          8,
          4,
          1,
          4,
          7,
          8,
          7,
          8,
          3,
          5,
          6,
          4,
          10,
          2,
          4,
          0,
          2,
          5
         ],
         "yaxis": "y"
        },
        {
         "hovertemplate": "<b>OLS trendline</b><br>Comments = -2.08732e-05 * Impressions + 6.78293<br>R<sup>2</sup>=0.000814<br><br>Impressions=%{x}<br>Comments=%{y} <b>(trend)</b><extra></extra>",
         "legendgroup": "",
         "marker": {
          "color": "#636efa",
          "symbol": "circle"
         },
         "mode": "lines",
         "name": "",
         "showlegend": false,
         "type": "scatter",
         "x": [
          1941,
          2064,
          2191,
          2218,
          2327,
          2407,
          2407,
          2518,
          2523,
          2621,
          2766,
          2766,
          2826,
          2826,
          2941,
          2957,
          2998,
          2998,
          3015,
          3015,
          3052,
          3052,
          3169,
          3169,
          3216,
          3234,
          3246,
          3333,
          3388,
          3454,
          3480,
          3525,
          3541,
          3601,
          3606,
          3623,
          3630,
          3630,
          3749,
          3786,
          3818,
          3854,
          3880,
          3884,
          3920,
          3924,
          3924,
          3973,
          3988,
          3990,
          4002,
          4002,
          4021,
          4082,
          4082,
          4115,
          4139,
          4150,
          4239,
          4289,
          4298,
          4343,
          4344,
          4355,
          4446,
          4467,
          4528,
          4609,
          4628,
          4628,
          4681,
          4842,
          4978,
          4998,
          5055,
          5055,
          5058,
          5072,
          5273,
          5323,
          5394,
          5394,
          5394,
          5409,
          5538,
          5542,
          5563,
          5731,
          6108,
          6168,
          6168,
          6339,
          6348,
          6432,
          6559,
          6666,
          6814,
          7018,
          7231,
          7281,
          7407,
          7407,
          7571,
          8001,
          9453,
          10206,
          10386,
          10386,
          10493,
          10667,
          10933,
          11068,
          11149,
          13700,
          16062,
          17396,
          17713,
          32695,
          36919
         ],
         "xaxis": "x",
         "y": [
          6.742411278559488,
          6.739843873124256,
          6.737192974829342,
          6.736629398026486,
          6.734354217600142,
          6.732684360406495,
          6.732684360406495,
          6.73036743355031,
          6.730263067475707,
          6.728217492413489,
          6.725190876250005,
          6.725190876250005,
          6.723938483354769,
          6.723938483354769,
          6.721538063638902,
          6.721204092200172,
          6.720348290388428,
          6.720348290388428,
          6.7199934457347785,
          6.7199934457347785,
          6.719221136782717,
          6.719221136782717,
          6.716778970637008,
          6.716778970637008,
          6.71579792953574,
          6.71542221166717,
          6.715171733088122,
          6.713355763390032,
          6.7122077365693995,
          6.710830104384641,
          6.710287400796705,
          6.7093481061252795,
          6.70901413468655,
          6.707761741791314,
          6.707657375716711,
          6.707302531063061,
          6.707156418558617,
          6.707156418558617,
          6.704672505983067,
          6.703900197031006,
          6.703232254153547,
          6.702480818416406,
          6.701938114828471,
          6.7018546219687885,
          6.701103186231648,
          6.701019693371965,
          6.701019693371965,
          6.699996905840856,
          6.699683807617047,
          6.699642061187206,
          6.699391582608159,
          6.699391582608159,
          6.6989949915246685,
          6.697721725414512,
          6.697721725414512,
          6.697032909322133,
          6.696531952164039,
          6.6963023467999125,
          6.69444463067198,
          6.693400969925951,
          6.693213110991666,
          6.692273816320239,
          6.692252943105319,
          6.692023337741192,
          6.690123875183419,
          6.689685537670087,
          6.688412271559931,
          6.686721541151363,
          6.686324950067872,
          6.686324950067872,
          6.685218669677081,
          6.681858082074867,
          6.679019324845667,
          6.678601860547255,
          6.677412087296782,
          6.677412087296782,
          6.67734946765202,
          6.677057242643132,
          6.6728617264440935,
          6.671818065698065,
          6.670336067438703,
          6.670336067438703,
          6.670336067438703,
          6.6700229692148945,
          6.6673303244901385,
          6.6672468316304565,
          6.666808494117124,
          6.663301794010465,
          6.655432591985404,
          6.654180199090169,
          6.654180199090169,
          6.650610879338749,
          6.650423020404463,
          6.6486696703511345,
          6.64601877205622,
          6.6437853380597165,
          6.64069610225147,
          6.63643796640767,
          6.631991971629586,
          6.630948310883556,
          6.628318285803562,
          6.628318285803562,
          6.624895078556586,
          6.615919596140734,
          6.5856116880760425,
          6.5698941572408405,
          6.566136978555135,
          6.566136978555135,
          6.563903544558632,
          6.56027160516245,
          6.554719329993574,
          6.551901445979295,
          6.550210715570727,
          6.496963144308311,
          6.447660610665886,
          6.419815741961823,
          6.413198932831998,
          6.1004764268917695,
          6.012307967067212
         ],
         "yaxis": "y"
        }
       ],
       "layout": {
        "legend": {
         "itemsizing": "constant",
         "tracegroupgap": 0
        },
        "template": {
         "data": {
          "bar": [
           {
            "error_x": {
             "color": "#2a3f5f"
            },
            "error_y": {
             "color": "#2a3f5f"
            },
            "marker": {
             "line": {
              "color": "#E5ECF6",
              "width": 0.5
             },
             "pattern": {
              "fillmode": "overlay",
              "size": 10,
              "solidity": 0.2
             }
            },
            "type": "bar"
           }
          ],
          "barpolar": [
           {
            "marker": {
             "line": {
              "color": "#E5ECF6",
              "width": 0.5
             },
             "pattern": {
              "fillmode": "overlay",
              "size": 10,
              "solidity": 0.2
             }
            },
            "type": "barpolar"
           }
          ],
          "carpet": [
           {
            "aaxis": {
             "endlinecolor": "#2a3f5f",
             "gridcolor": "white",
             "linecolor": "white",
             "minorgridcolor": "white",
             "startlinecolor": "#2a3f5f"
            },
            "baxis": {
             "endlinecolor": "#2a3f5f",
             "gridcolor": "white",
             "linecolor": "white",
             "minorgridcolor": "white",
             "startlinecolor": "#2a3f5f"
            },
            "type": "carpet"
           }
          ],
          "choropleth": [
           {
            "colorbar": {
             "outlinewidth": 0,
             "ticks": ""
            },
            "type": "choropleth"
           }
          ],
          "contour": [
           {
            "colorbar": {
             "outlinewidth": 0,
             "ticks": ""
            },
            "colorscale": [
             [
              0,
              "#0d0887"
             ],
             [
              0.1111111111111111,
              "#46039f"
             ],
             [
              0.2222222222222222,
              "#7201a8"
             ],
             [
              0.3333333333333333,
              "#9c179e"
             ],
             [
              0.4444444444444444,
              "#bd3786"
             ],
             [
              0.5555555555555556,
              "#d8576b"
             ],
             [
              0.6666666666666666,
              "#ed7953"
             ],
             [
              0.7777777777777778,
              "#fb9f3a"
             ],
             [
              0.8888888888888888,
              "#fdca26"
             ],
             [
              1,
              "#f0f921"
             ]
            ],
            "type": "contour"
           }
          ],
          "contourcarpet": [
           {
            "colorbar": {
             "outlinewidth": 0,
             "ticks": ""
            },
            "type": "contourcarpet"
           }
          ],
          "heatmap": [
           {
            "colorbar": {
             "outlinewidth": 0,
             "ticks": ""
            },
            "colorscale": [
             [
              0,
              "#0d0887"
             ],
             [
              0.1111111111111111,
              "#46039f"
             ],
             [
              0.2222222222222222,
              "#7201a8"
             ],
             [
              0.3333333333333333,
              "#9c179e"
             ],
             [
              0.4444444444444444,
              "#bd3786"
             ],
             [
              0.5555555555555556,
              "#d8576b"
             ],
             [
              0.6666666666666666,
              "#ed7953"
             ],
             [
              0.7777777777777778,
              "#fb9f3a"
             ],
             [
              0.8888888888888888,
              "#fdca26"
             ],
             [
              1,
              "#f0f921"
             ]
            ],
            "type": "heatmap"
           }
          ],
          "heatmapgl": [
           {
            "colorbar": {
             "outlinewidth": 0,
             "ticks": ""
            },
            "colorscale": [
             [
              0,
              "#0d0887"
             ],
             [
              0.1111111111111111,
              "#46039f"
             ],
             [
              0.2222222222222222,
              "#7201a8"
             ],
             [
              0.3333333333333333,
              "#9c179e"
             ],
             [
              0.4444444444444444,
              "#bd3786"
             ],
             [
              0.5555555555555556,
              "#d8576b"
             ],
             [
              0.6666666666666666,
              "#ed7953"
             ],
             [
              0.7777777777777778,
              "#fb9f3a"
             ],
             [
              0.8888888888888888,
              "#fdca26"
             ],
             [
              1,
              "#f0f921"
             ]
            ],
            "type": "heatmapgl"
           }
          ],
          "histogram": [
           {
            "marker": {
             "pattern": {
              "fillmode": "overlay",
              "size": 10,
              "solidity": 0.2
             }
            },
            "type": "histogram"
           }
          ],
          "histogram2d": [
           {
            "colorbar": {
             "outlinewidth": 0,
             "ticks": ""
            },
            "colorscale": [
             [
              0,
              "#0d0887"
             ],
             [
              0.1111111111111111,
              "#46039f"
             ],
             [
              0.2222222222222222,
              "#7201a8"
             ],
             [
              0.3333333333333333,
              "#9c179e"
             ],
             [
              0.4444444444444444,
              "#bd3786"
             ],
             [
              0.5555555555555556,
              "#d8576b"
             ],
             [
              0.6666666666666666,
              "#ed7953"
             ],
             [
              0.7777777777777778,
              "#fb9f3a"
             ],
             [
              0.8888888888888888,
              "#fdca26"
             ],
             [
              1,
              "#f0f921"
             ]
            ],
            "type": "histogram2d"
           }
          ],
          "histogram2dcontour": [
           {
            "colorbar": {
             "outlinewidth": 0,
             "ticks": ""
            },
            "colorscale": [
             [
              0,
              "#0d0887"
             ],
             [
              0.1111111111111111,
              "#46039f"
             ],
             [
              0.2222222222222222,
              "#7201a8"
             ],
             [
              0.3333333333333333,
              "#9c179e"
             ],
             [
              0.4444444444444444,
              "#bd3786"
             ],
             [
              0.5555555555555556,
              "#d8576b"
             ],
             [
              0.6666666666666666,
              "#ed7953"
             ],
             [
              0.7777777777777778,
              "#fb9f3a"
             ],
             [
              0.8888888888888888,
              "#fdca26"
             ],
             [
              1,
              "#f0f921"
             ]
            ],
            "type": "histogram2dcontour"
           }
          ],
          "mesh3d": [
           {
            "colorbar": {
             "outlinewidth": 0,
             "ticks": ""
            },
            "type": "mesh3d"
           }
          ],
          "parcoords": [
           {
            "line": {
             "colorbar": {
              "outlinewidth": 0,
              "ticks": ""
             }
            },
            "type": "parcoords"
           }
          ],
          "pie": [
           {
            "automargin": true,
            "type": "pie"
           }
          ],
          "scatter": [
           {
            "fillpattern": {
             "fillmode": "overlay",
             "size": 10,
             "solidity": 0.2
            },
            "type": "scatter"
           }
          ],
          "scatter3d": [
           {
            "line": {
             "colorbar": {
              "outlinewidth": 0,
              "ticks": ""
             }
            },
            "marker": {
             "colorbar": {
              "outlinewidth": 0,
              "ticks": ""
             }
            },
            "type": "scatter3d"
           }
          ],
          "scattercarpet": [
           {
            "marker": {
             "colorbar": {
              "outlinewidth": 0,
              "ticks": ""
             }
            },
            "type": "scattercarpet"
           }
          ],
          "scattergeo": [
           {
            "marker": {
             "colorbar": {
              "outlinewidth": 0,
              "ticks": ""
             }
            },
            "type": "scattergeo"
           }
          ],
          "scattergl": [
           {
            "marker": {
             "colorbar": {
              "outlinewidth": 0,
              "ticks": ""
             }
            },
            "type": "scattergl"
           }
          ],
          "scattermapbox": [
           {
            "marker": {
             "colorbar": {
              "outlinewidth": 0,
              "ticks": ""
             }
            },
            "type": "scattermapbox"
           }
          ],
          "scatterpolar": [
           {
            "marker": {
             "colorbar": {
              "outlinewidth": 0,
              "ticks": ""
             }
            },
            "type": "scatterpolar"
           }
          ],
          "scatterpolargl": [
           {
            "marker": {
             "colorbar": {
              "outlinewidth": 0,
              "ticks": ""
             }
            },
            "type": "scatterpolargl"
           }
          ],
          "scatterternary": [
           {
            "marker": {
             "colorbar": {
              "outlinewidth": 0,
              "ticks": ""
             }
            },
            "type": "scatterternary"
           }
          ],
          "surface": [
           {
            "colorbar": {
             "outlinewidth": 0,
             "ticks": ""
            },
            "colorscale": [
             [
              0,
              "#0d0887"
             ],
             [
              0.1111111111111111,
              "#46039f"
             ],
             [
              0.2222222222222222,
              "#7201a8"
             ],
             [
              0.3333333333333333,
              "#9c179e"
             ],
             [
              0.4444444444444444,
              "#bd3786"
             ],
             [
              0.5555555555555556,
              "#d8576b"
             ],
             [
              0.6666666666666666,
              "#ed7953"
             ],
             [
              0.7777777777777778,
              "#fb9f3a"
             ],
             [
              0.8888888888888888,
              "#fdca26"
             ],
             [
              1,
              "#f0f921"
             ]
            ],
            "type": "surface"
           }
          ],
          "table": [
           {
            "cells": {
             "fill": {
              "color": "#EBF0F8"
             },
             "line": {
              "color": "white"
             }
            },
            "header": {
             "fill": {
              "color": "#C8D4E3"
             },
             "line": {
              "color": "white"
             }
            },
            "type": "table"
           }
          ]
         },
         "layout": {
          "annotationdefaults": {
           "arrowcolor": "#2a3f5f",
           "arrowhead": 0,
           "arrowwidth": 1
          },
          "autotypenumbers": "strict",
          "coloraxis": {
           "colorbar": {
            "outlinewidth": 0,
            "ticks": ""
           }
          },
          "colorscale": {
           "diverging": [
            [
             0,
             "#8e0152"
            ],
            [
             0.1,
             "#c51b7d"
            ],
            [
             0.2,
             "#de77ae"
            ],
            [
             0.3,
             "#f1b6da"
            ],
            [
             0.4,
             "#fde0ef"
            ],
            [
             0.5,
             "#f7f7f7"
            ],
            [
             0.6,
             "#e6f5d0"
            ],
            [
             0.7,
             "#b8e186"
            ],
            [
             0.8,
             "#7fbc41"
            ],
            [
             0.9,
             "#4d9221"
            ],
            [
             1,
             "#276419"
            ]
           ],
           "sequential": [
            [
             0,
             "#0d0887"
            ],
            [
             0.1111111111111111,
             "#46039f"
            ],
            [
             0.2222222222222222,
             "#7201a8"
            ],
            [
             0.3333333333333333,
             "#9c179e"
            ],
            [
             0.4444444444444444,
             "#bd3786"
            ],
            [
             0.5555555555555556,
             "#d8576b"
            ],
            [
             0.6666666666666666,
             "#ed7953"
            ],
            [
             0.7777777777777778,
             "#fb9f3a"
            ],
            [
             0.8888888888888888,
             "#fdca26"
            ],
            [
             1,
             "#f0f921"
            ]
           ],
           "sequentialminus": [
            [
             0,
             "#0d0887"
            ],
            [
             0.1111111111111111,
             "#46039f"
            ],
            [
             0.2222222222222222,
             "#7201a8"
            ],
            [
             0.3333333333333333,
             "#9c179e"
            ],
            [
             0.4444444444444444,
             "#bd3786"
            ],
            [
             0.5555555555555556,
             "#d8576b"
            ],
            [
             0.6666666666666666,
             "#ed7953"
            ],
            [
             0.7777777777777778,
             "#fb9f3a"
            ],
            [
             0.8888888888888888,
             "#fdca26"
            ],
            [
             1,
             "#f0f921"
            ]
           ]
          },
          "colorway": [
           "#636efa",
           "#EF553B",
           "#00cc96",
           "#ab63fa",
           "#FFA15A",
           "#19d3f3",
           "#FF6692",
           "#B6E880",
           "#FF97FF",
           "#FECB52"
          ],
          "font": {
           "color": "#2a3f5f"
          },
          "geo": {
           "bgcolor": "white",
           "lakecolor": "white",
           "landcolor": "#E5ECF6",
           "showlakes": true,
           "showland": true,
           "subunitcolor": "white"
          },
          "hoverlabel": {
           "align": "left"
          },
          "hovermode": "closest",
          "mapbox": {
           "style": "light"
          },
          "paper_bgcolor": "white",
          "plot_bgcolor": "#E5ECF6",
          "polar": {
           "angularaxis": {
            "gridcolor": "white",
            "linecolor": "white",
            "ticks": ""
           },
           "bgcolor": "#E5ECF6",
           "radialaxis": {
            "gridcolor": "white",
            "linecolor": "white",
            "ticks": ""
           }
          },
          "scene": {
           "xaxis": {
            "backgroundcolor": "#E5ECF6",
            "gridcolor": "white",
            "gridwidth": 2,
            "linecolor": "white",
            "showbackground": true,
            "ticks": "",
            "zerolinecolor": "white"
           },
           "yaxis": {
            "backgroundcolor": "#E5ECF6",
            "gridcolor": "white",
            "gridwidth": 2,
            "linecolor": "white",
            "showbackground": true,
            "ticks": "",
            "zerolinecolor": "white"
           },
           "zaxis": {
            "backgroundcolor": "#E5ECF6",
            "gridcolor": "white",
            "gridwidth": 2,
            "linecolor": "white",
            "showbackground": true,
            "ticks": "",
            "zerolinecolor": "white"
           }
          },
          "shapedefaults": {
           "line": {
            "color": "#2a3f5f"
           }
          },
          "ternary": {
           "aaxis": {
            "gridcolor": "white",
            "linecolor": "white",
            "ticks": ""
           },
           "baxis": {
            "gridcolor": "white",
            "linecolor": "white",
            "ticks": ""
           },
           "bgcolor": "#E5ECF6",
           "caxis": {
            "gridcolor": "white",
            "linecolor": "white",
            "ticks": ""
           }
          },
          "title": {
           "x": 0.05
          },
          "xaxis": {
           "automargin": true,
           "gridcolor": "white",
           "linecolor": "white",
           "ticks": "",
           "title": {
            "standoff": 15
           },
           "zerolinecolor": "white",
           "zerolinewidth": 2
          },
          "yaxis": {
           "automargin": true,
           "gridcolor": "white",
           "linecolor": "white",
           "ticks": "",
           "title": {
            "standoff": 15
           },
           "zerolinecolor": "white",
           "zerolinewidth": 2
          }
         }
        },
        "title": {
         "text": "Relationship Between Comments and Total Impressions"
        },
        "xaxis": {
         "anchor": "y",
         "domain": [
          0,
          1
         ],
         "title": {
          "text": "Impressions"
         }
        },
        "yaxis": {
         "anchor": "x",
         "domain": [
          0,
          1
         ],
         "title": {
          "text": "Comments"
         }
        }
       }
      }
     },
     "metadata": {},
     "output_type": "display_data"
    }
   ],
   "source": [
    "# Create a scatter plot using Plotly Express (px.scatter) to visualize the relationship between 'Impressions' and 'Comments'.\n",
    "# The 'data_frame' parameter specifies the DataFrame to be used for plotting, which is 'data'.\n",
    "# The 'x' parameter specifies the column to be used as the x-axis values, which is 'Impressions'.\n",
    "# The 'y' parameter specifies the column to be used as the y-axis values, which is 'Comments'.\n",
    "# The 'size' parameter sets the size of the markers based on the 'Comments' values, making larger markers for more comments.\n",
    "# The 'trendline' parameter adds a trendline to the scatter plot using ordinary least squares (OLS) linear regression.\n",
    "# The 'title' parameter sets the title of the scatter plot.\n",
    "figure = px.scatter(data_frame=data, x=\"Impressions\", y=\"Comments\", size=\"Comments\", trendline=\"ols\", \n",
    "                    title=\"Relationship Between Comments and Total Impressions\")\n",
    "\n",
    "# Display the scatter plot.\n",
    "figure.show()\n"
   ]
  },
  {
   "cell_type": "code",
   "execution_count": 9,
   "metadata": {},
   "outputs": [
    {
     "data": {
      "application/vnd.plotly.v1+json": {
       "config": {
        "plotlyServerURL": "https://plot.ly"
       },
       "data": [
        {
         "hovertemplate": "Impressions=%{x}<br>Shares=%{marker.size}<extra></extra>",
         "legendgroup": "",
         "marker": {
          "color": "#636efa",
          "size": [
           5,
           14,
           1,
           7,
           4,
           10,
           1,
           9,
           8,
           3,
           3,
           14,
           11,
           5,
           10,
           11,
           18,
           1,
           6,
           20,
           5,
           4,
           9,
           14,
           3,
           5,
           6,
           4,
           3,
           4,
           3,
           15,
           4,
           3,
           8,
           0,
           3,
           11,
           1,
           3,
           20,
           13,
           4,
           2,
           5,
           19,
           10,
           3,
           15,
           41,
           1,
           16,
           1,
           8,
           15,
           9,
           2,
           7,
           16,
           14,
           6,
           5,
           1,
           0,
           12,
           5,
           0,
           15,
           2,
           3,
           7,
           0,
           15,
           6,
           6,
           0,
           1,
           11,
           2,
           6,
           12,
           22,
           11,
           18,
           1,
           6,
           20,
           10,
           3,
           15,
           41,
           1,
           14,
           3,
           5,
           6,
           4,
           3,
           4,
           27,
           13,
           7,
           2,
           12,
           15,
           8,
           3,
           7,
           22,
           23,
           8,
           4,
           13,
           17,
           38,
           1,
           1,
           75,
           26
          ],
          "sizemode": "area",
          "sizeref": 0.1875,
          "symbol": "circle"
         },
         "mode": "markers",
         "name": "",
         "orientation": "v",
         "showlegend": false,
         "type": "scatter",
         "x": [
          3920,
          5394,
          4021,
          4528,
          2518,
          3884,
          2621,
          3541,
          3749,
          4115,
          2218,
          3234,
          4344,
          3216,
          9453,
          5055,
          4002,
          3169,
          6168,
          2407,
          2064,
          3973,
          7281,
          3052,
          4628,
          4082,
          5394,
          2766,
          3924,
          3015,
          6666,
          3854,
          4355,
          4343,
          6108,
          2523,
          2327,
          3990,
          2191,
          1941,
          16062,
          4998,
          4289,
          3880,
          3786,
          4298,
          3630,
          2826,
          7407,
          10386,
          2998,
          7018,
          2941,
          6432,
          10667,
          3988,
          4978,
          3388,
          4467,
          3246,
          5072,
          6339,
          4239,
          3454,
          7571,
          3333,
          3818,
          10933,
          5058,
          3601,
          3480,
          3525,
          3606,
          5542,
          6559,
          3623,
          10493,
          4446,
          2957,
          5538,
          4681,
          5273,
          5055,
          4002,
          3169,
          6168,
          2407,
          3630,
          2826,
          7407,
          10386,
          2998,
          3052,
          4628,
          4082,
          5394,
          2766,
          3924,
          3015,
          5409,
          5323,
          8001,
          4150,
          4609,
          6348,
          11068,
          7231,
          17396,
          6814,
          17713,
          5563,
          4842,
          11149,
          10206,
          13700,
          5731,
          4139,
          32695,
          36919
         ],
         "xaxis": "x",
         "y": [
          5,
          14,
          1,
          7,
          4,
          10,
          1,
          9,
          8,
          3,
          3,
          14,
          11,
          5,
          10,
          11,
          18,
          1,
          6,
          20,
          5,
          4,
          9,
          14,
          3,
          5,
          6,
          4,
          3,
          4,
          3,
          15,
          4,
          3,
          8,
          0,
          3,
          11,
          1,
          3,
          20,
          13,
          4,
          2,
          5,
          19,
          10,
          3,
          15,
          41,
          1,
          16,
          1,
          8,
          15,
          9,
          2,
          7,
          16,
          14,
          6,
          5,
          1,
          0,
          12,
          5,
          0,
          15,
          2,
          3,
          7,
          0,
          15,
          6,
          6,
          0,
          1,
          11,
          2,
          6,
          12,
          22,
          11,
          18,
          1,
          6,
          20,
          10,
          3,
          15,
          41,
          1,
          14,
          3,
          5,
          6,
          4,
          3,
          4,
          27,
          13,
          7,
          2,
          12,
          15,
          8,
          3,
          7,
          22,
          23,
          8,
          4,
          13,
          17,
          38,
          1,
          1,
          75,
          26
         ],
         "yaxis": "y"
        },
        {
         "hovertemplate": "<b>OLS trendline</b><br>Shares = 0.00132198 * Impressions + 1.8208<br>R<sup>2</sup>=0.402813<br><br>Impressions=%{x}<br>Shares=%{y} <b>(trend)</b><extra></extra>",
         "legendgroup": "",
         "marker": {
          "color": "#636efa",
          "symbol": "circle"
         },
         "mode": "lines",
         "name": "",
         "showlegend": false,
         "type": "scatter",
         "x": [
          1941,
          2064,
          2191,
          2218,
          2327,
          2407,
          2407,
          2518,
          2523,
          2621,
          2766,
          2766,
          2826,
          2826,
          2941,
          2957,
          2998,
          2998,
          3015,
          3015,
          3052,
          3052,
          3169,
          3169,
          3216,
          3234,
          3246,
          3333,
          3388,
          3454,
          3480,
          3525,
          3541,
          3601,
          3606,
          3623,
          3630,
          3630,
          3749,
          3786,
          3818,
          3854,
          3880,
          3884,
          3920,
          3924,
          3924,
          3973,
          3988,
          3990,
          4002,
          4002,
          4021,
          4082,
          4082,
          4115,
          4139,
          4150,
          4239,
          4289,
          4298,
          4343,
          4344,
          4355,
          4446,
          4467,
          4528,
          4609,
          4628,
          4628,
          4681,
          4842,
          4978,
          4998,
          5055,
          5055,
          5058,
          5072,
          5273,
          5323,
          5394,
          5394,
          5394,
          5409,
          5538,
          5542,
          5563,
          5731,
          6108,
          6168,
          6168,
          6339,
          6348,
          6432,
          6559,
          6666,
          6814,
          7018,
          7231,
          7281,
          7407,
          7407,
          7571,
          8001,
          9453,
          10206,
          10386,
          10386,
          10493,
          10667,
          10933,
          11068,
          11149,
          13700,
          16062,
          17396,
          17713,
          32695,
          36919
         ],
         "xaxis": "x",
         "y": [
          4.386755112754187,
          4.549358319157587,
          4.7172494347123175,
          4.752942821483796,
          4.89703834585754,
          5.002796528884142,
          5.002796528884142,
          5.149536007833552,
          5.156145894272715,
          5.2856996684803015,
          5.4773863752160175,
          5.4773863752160175,
          5.556705012485969,
          5.556705012485969,
          5.708732400586708,
          5.729884037192029,
          5.784085105993162,
          5.784085105993162,
          5.806558719886315,
          5.806558719886315,
          5.855471879536118,
          5.855471879536118,
          6.010143222212523,
          6.010143222212523,
          6.072276154740652,
          6.096071745921638,
          6.1119354733756275,
          6.226947497417057,
          6.299656248247846,
          6.386906749244792,
          6.4212781587284375,
          6.480767136680901,
          6.501918773286222,
          6.581237410556173,
          6.587847296995336,
          6.610320910888489,
          6.619574751903316,
          6.619574751903316,
          6.776890049155386,
          6.82580320880519,
          6.86810648201583,
          6.9156976643778005,
          6.950069073861447,
          6.955356983012776,
          7.002948165374748,
          7.008236074526077,
          7.008236074526077,
          7.073012961629871,
          7.0928426209473585,
          7.095486575523024,
          7.111350302977014,
          7.111350302977014,
          7.136467871445832,
          7.217108486003616,
          7.217108486003616,
          7.260733736502089,
          7.292461191410069,
          7.307002941576227,
          7.4246589201933215,
          7.490757784584948,
          7.502655580175441,
          7.562144558127904,
          7.563466535415737,
          7.578008285581894,
          7.698308218774653,
          7.726069741819137,
          7.806710356376921,
          7.913790516691354,
          7.938908085160173,
          7.938908085160173,
          8.008972881415296,
          8.221811224756333,
          8.401600135901555,
          8.428039681658205,
          8.50339238706466,
          8.50339238706466,
          8.507358318928157,
          8.525866000957812,
          8.79158343581215,
          8.857682300203775,
          8.951542687639883,
          8.951542687639883,
          8.951542687639883,
          8.971372346957372,
          9.141907417087767,
          9.147195326239096,
          9.17495684928358,
          9.397049033639444,
          9.895434471152305,
          9.974753108422256,
          9.974753108422256,
          10.200811224641617,
          10.21270902023211,
          10.32375511241004,
          10.491646227964772,
          10.63309779776285,
          10.828750436362064,
          11.0984338030799,
          11.380014965388225,
          11.446113829779852,
          11.61268296804675,
          11.61268296804675,
          11.829487243251283,
          12.397937477019267,
          14.31744849895209,
          15.312897396689978,
          15.550853308499832,
          15.550853308499832,
          15.69230487829791,
          15.92232892638077,
          16.27397488494422,
          16.45244181880161,
          16.559521979116045,
          19.93188604037681,
          23.054396394237223,
          24.817914096205804,
          25.236980896448713,
          45.04284462275555,
          50.626876686560124
         ],
         "yaxis": "y"
        }
       ],
       "layout": {
        "legend": {
         "itemsizing": "constant",
         "tracegroupgap": 0
        },
        "template": {
         "data": {
          "bar": [
           {
            "error_x": {
             "color": "#2a3f5f"
            },
            "error_y": {
             "color": "#2a3f5f"
            },
            "marker": {
             "line": {
              "color": "#E5ECF6",
              "width": 0.5
             },
             "pattern": {
              "fillmode": "overlay",
              "size": 10,
              "solidity": 0.2
             }
            },
            "type": "bar"
           }
          ],
          "barpolar": [
           {
            "marker": {
             "line": {
              "color": "#E5ECF6",
              "width": 0.5
             },
             "pattern": {
              "fillmode": "overlay",
              "size": 10,
              "solidity": 0.2
             }
            },
            "type": "barpolar"
           }
          ],
          "carpet": [
           {
            "aaxis": {
             "endlinecolor": "#2a3f5f",
             "gridcolor": "white",
             "linecolor": "white",
             "minorgridcolor": "white",
             "startlinecolor": "#2a3f5f"
            },
            "baxis": {
             "endlinecolor": "#2a3f5f",
             "gridcolor": "white",
             "linecolor": "white",
             "minorgridcolor": "white",
             "startlinecolor": "#2a3f5f"
            },
            "type": "carpet"
           }
          ],
          "choropleth": [
           {
            "colorbar": {
             "outlinewidth": 0,
             "ticks": ""
            },
            "type": "choropleth"
           }
          ],
          "contour": [
           {
            "colorbar": {
             "outlinewidth": 0,
             "ticks": ""
            },
            "colorscale": [
             [
              0,
              "#0d0887"
             ],
             [
              0.1111111111111111,
              "#46039f"
             ],
             [
              0.2222222222222222,
              "#7201a8"
             ],
             [
              0.3333333333333333,
              "#9c179e"
             ],
             [
              0.4444444444444444,
              "#bd3786"
             ],
             [
              0.5555555555555556,
              "#d8576b"
             ],
             [
              0.6666666666666666,
              "#ed7953"
             ],
             [
              0.7777777777777778,
              "#fb9f3a"
             ],
             [
              0.8888888888888888,
              "#fdca26"
             ],
             [
              1,
              "#f0f921"
             ]
            ],
            "type": "contour"
           }
          ],
          "contourcarpet": [
           {
            "colorbar": {
             "outlinewidth": 0,
             "ticks": ""
            },
            "type": "contourcarpet"
           }
          ],
          "heatmap": [
           {
            "colorbar": {
             "outlinewidth": 0,
             "ticks": ""
            },
            "colorscale": [
             [
              0,
              "#0d0887"
             ],
             [
              0.1111111111111111,
              "#46039f"
             ],
             [
              0.2222222222222222,
              "#7201a8"
             ],
             [
              0.3333333333333333,
              "#9c179e"
             ],
             [
              0.4444444444444444,
              "#bd3786"
             ],
             [
              0.5555555555555556,
              "#d8576b"
             ],
             [
              0.6666666666666666,
              "#ed7953"
             ],
             [
              0.7777777777777778,
              "#fb9f3a"
             ],
             [
              0.8888888888888888,
              "#fdca26"
             ],
             [
              1,
              "#f0f921"
             ]
            ],
            "type": "heatmap"
           }
          ],
          "heatmapgl": [
           {
            "colorbar": {
             "outlinewidth": 0,
             "ticks": ""
            },
            "colorscale": [
             [
              0,
              "#0d0887"
             ],
             [
              0.1111111111111111,
              "#46039f"
             ],
             [
              0.2222222222222222,
              "#7201a8"
             ],
             [
              0.3333333333333333,
              "#9c179e"
             ],
             [
              0.4444444444444444,
              "#bd3786"
             ],
             [
              0.5555555555555556,
              "#d8576b"
             ],
             [
              0.6666666666666666,
              "#ed7953"
             ],
             [
              0.7777777777777778,
              "#fb9f3a"
             ],
             [
              0.8888888888888888,
              "#fdca26"
             ],
             [
              1,
              "#f0f921"
             ]
            ],
            "type": "heatmapgl"
           }
          ],
          "histogram": [
           {
            "marker": {
             "pattern": {
              "fillmode": "overlay",
              "size": 10,
              "solidity": 0.2
             }
            },
            "type": "histogram"
           }
          ],
          "histogram2d": [
           {
            "colorbar": {
             "outlinewidth": 0,
             "ticks": ""
            },
            "colorscale": [
             [
              0,
              "#0d0887"
             ],
             [
              0.1111111111111111,
              "#46039f"
             ],
             [
              0.2222222222222222,
              "#7201a8"
             ],
             [
              0.3333333333333333,
              "#9c179e"
             ],
             [
              0.4444444444444444,
              "#bd3786"
             ],
             [
              0.5555555555555556,
              "#d8576b"
             ],
             [
              0.6666666666666666,
              "#ed7953"
             ],
             [
              0.7777777777777778,
              "#fb9f3a"
             ],
             [
              0.8888888888888888,
              "#fdca26"
             ],
             [
              1,
              "#f0f921"
             ]
            ],
            "type": "histogram2d"
           }
          ],
          "histogram2dcontour": [
           {
            "colorbar": {
             "outlinewidth": 0,
             "ticks": ""
            },
            "colorscale": [
             [
              0,
              "#0d0887"
             ],
             [
              0.1111111111111111,
              "#46039f"
             ],
             [
              0.2222222222222222,
              "#7201a8"
             ],
             [
              0.3333333333333333,
              "#9c179e"
             ],
             [
              0.4444444444444444,
              "#bd3786"
             ],
             [
              0.5555555555555556,
              "#d8576b"
             ],
             [
              0.6666666666666666,
              "#ed7953"
             ],
             [
              0.7777777777777778,
              "#fb9f3a"
             ],
             [
              0.8888888888888888,
              "#fdca26"
             ],
             [
              1,
              "#f0f921"
             ]
            ],
            "type": "histogram2dcontour"
           }
          ],
          "mesh3d": [
           {
            "colorbar": {
             "outlinewidth": 0,
             "ticks": ""
            },
            "type": "mesh3d"
           }
          ],
          "parcoords": [
           {
            "line": {
             "colorbar": {
              "outlinewidth": 0,
              "ticks": ""
             }
            },
            "type": "parcoords"
           }
          ],
          "pie": [
           {
            "automargin": true,
            "type": "pie"
           }
          ],
          "scatter": [
           {
            "fillpattern": {
             "fillmode": "overlay",
             "size": 10,
             "solidity": 0.2
            },
            "type": "scatter"
           }
          ],
          "scatter3d": [
           {
            "line": {
             "colorbar": {
              "outlinewidth": 0,
              "ticks": ""
             }
            },
            "marker": {
             "colorbar": {
              "outlinewidth": 0,
              "ticks": ""
             }
            },
            "type": "scatter3d"
           }
          ],
          "scattercarpet": [
           {
            "marker": {
             "colorbar": {
              "outlinewidth": 0,
              "ticks": ""
             }
            },
            "type": "scattercarpet"
           }
          ],
          "scattergeo": [
           {
            "marker": {
             "colorbar": {
              "outlinewidth": 0,
              "ticks": ""
             }
            },
            "type": "scattergeo"
           }
          ],
          "scattergl": [
           {
            "marker": {
             "colorbar": {
              "outlinewidth": 0,
              "ticks": ""
             }
            },
            "type": "scattergl"
           }
          ],
          "scattermapbox": [
           {
            "marker": {
             "colorbar": {
              "outlinewidth": 0,
              "ticks": ""
             }
            },
            "type": "scattermapbox"
           }
          ],
          "scatterpolar": [
           {
            "marker": {
             "colorbar": {
              "outlinewidth": 0,
              "ticks": ""
             }
            },
            "type": "scatterpolar"
           }
          ],
          "scatterpolargl": [
           {
            "marker": {
             "colorbar": {
              "outlinewidth": 0,
              "ticks": ""
             }
            },
            "type": "scatterpolargl"
           }
          ],
          "scatterternary": [
           {
            "marker": {
             "colorbar": {
              "outlinewidth": 0,
              "ticks": ""
             }
            },
            "type": "scatterternary"
           }
          ],
          "surface": [
           {
            "colorbar": {
             "outlinewidth": 0,
             "ticks": ""
            },
            "colorscale": [
             [
              0,
              "#0d0887"
             ],
             [
              0.1111111111111111,
              "#46039f"
             ],
             [
              0.2222222222222222,
              "#7201a8"
             ],
             [
              0.3333333333333333,
              "#9c179e"
             ],
             [
              0.4444444444444444,
              "#bd3786"
             ],
             [
              0.5555555555555556,
              "#d8576b"
             ],
             [
              0.6666666666666666,
              "#ed7953"
             ],
             [
              0.7777777777777778,
              "#fb9f3a"
             ],
             [
              0.8888888888888888,
              "#fdca26"
             ],
             [
              1,
              "#f0f921"
             ]
            ],
            "type": "surface"
           }
          ],
          "table": [
           {
            "cells": {
             "fill": {
              "color": "#EBF0F8"
             },
             "line": {
              "color": "white"
             }
            },
            "header": {
             "fill": {
              "color": "#C8D4E3"
             },
             "line": {
              "color": "white"
             }
            },
            "type": "table"
           }
          ]
         },
         "layout": {
          "annotationdefaults": {
           "arrowcolor": "#2a3f5f",
           "arrowhead": 0,
           "arrowwidth": 1
          },
          "autotypenumbers": "strict",
          "coloraxis": {
           "colorbar": {
            "outlinewidth": 0,
            "ticks": ""
           }
          },
          "colorscale": {
           "diverging": [
            [
             0,
             "#8e0152"
            ],
            [
             0.1,
             "#c51b7d"
            ],
            [
             0.2,
             "#de77ae"
            ],
            [
             0.3,
             "#f1b6da"
            ],
            [
             0.4,
             "#fde0ef"
            ],
            [
             0.5,
             "#f7f7f7"
            ],
            [
             0.6,
             "#e6f5d0"
            ],
            [
             0.7,
             "#b8e186"
            ],
            [
             0.8,
             "#7fbc41"
            ],
            [
             0.9,
             "#4d9221"
            ],
            [
             1,
             "#276419"
            ]
           ],
           "sequential": [
            [
             0,
             "#0d0887"
            ],
            [
             0.1111111111111111,
             "#46039f"
            ],
            [
             0.2222222222222222,
             "#7201a8"
            ],
            [
             0.3333333333333333,
             "#9c179e"
            ],
            [
             0.4444444444444444,
             "#bd3786"
            ],
            [
             0.5555555555555556,
             "#d8576b"
            ],
            [
             0.6666666666666666,
             "#ed7953"
            ],
            [
             0.7777777777777778,
             "#fb9f3a"
            ],
            [
             0.8888888888888888,
             "#fdca26"
            ],
            [
             1,
             "#f0f921"
            ]
           ],
           "sequentialminus": [
            [
             0,
             "#0d0887"
            ],
            [
             0.1111111111111111,
             "#46039f"
            ],
            [
             0.2222222222222222,
             "#7201a8"
            ],
            [
             0.3333333333333333,
             "#9c179e"
            ],
            [
             0.4444444444444444,
             "#bd3786"
            ],
            [
             0.5555555555555556,
             "#d8576b"
            ],
            [
             0.6666666666666666,
             "#ed7953"
            ],
            [
             0.7777777777777778,
             "#fb9f3a"
            ],
            [
             0.8888888888888888,
             "#fdca26"
            ],
            [
             1,
             "#f0f921"
            ]
           ]
          },
          "colorway": [
           "#636efa",
           "#EF553B",
           "#00cc96",
           "#ab63fa",
           "#FFA15A",
           "#19d3f3",
           "#FF6692",
           "#B6E880",
           "#FF97FF",
           "#FECB52"
          ],
          "font": {
           "color": "#2a3f5f"
          },
          "geo": {
           "bgcolor": "white",
           "lakecolor": "white",
           "landcolor": "#E5ECF6",
           "showlakes": true,
           "showland": true,
           "subunitcolor": "white"
          },
          "hoverlabel": {
           "align": "left"
          },
          "hovermode": "closest",
          "mapbox": {
           "style": "light"
          },
          "paper_bgcolor": "white",
          "plot_bgcolor": "#E5ECF6",
          "polar": {
           "angularaxis": {
            "gridcolor": "white",
            "linecolor": "white",
            "ticks": ""
           },
           "bgcolor": "#E5ECF6",
           "radialaxis": {
            "gridcolor": "white",
            "linecolor": "white",
            "ticks": ""
           }
          },
          "scene": {
           "xaxis": {
            "backgroundcolor": "#E5ECF6",
            "gridcolor": "white",
            "gridwidth": 2,
            "linecolor": "white",
            "showbackground": true,
            "ticks": "",
            "zerolinecolor": "white"
           },
           "yaxis": {
            "backgroundcolor": "#E5ECF6",
            "gridcolor": "white",
            "gridwidth": 2,
            "linecolor": "white",
            "showbackground": true,
            "ticks": "",
            "zerolinecolor": "white"
           },
           "zaxis": {
            "backgroundcolor": "#E5ECF6",
            "gridcolor": "white",
            "gridwidth": 2,
            "linecolor": "white",
            "showbackground": true,
            "ticks": "",
            "zerolinecolor": "white"
           }
          },
          "shapedefaults": {
           "line": {
            "color": "#2a3f5f"
           }
          },
          "ternary": {
           "aaxis": {
            "gridcolor": "white",
            "linecolor": "white",
            "ticks": ""
           },
           "baxis": {
            "gridcolor": "white",
            "linecolor": "white",
            "ticks": ""
           },
           "bgcolor": "#E5ECF6",
           "caxis": {
            "gridcolor": "white",
            "linecolor": "white",
            "ticks": ""
           }
          },
          "title": {
           "x": 0.05
          },
          "xaxis": {
           "automargin": true,
           "gridcolor": "white",
           "linecolor": "white",
           "ticks": "",
           "title": {
            "standoff": 15
           },
           "zerolinecolor": "white",
           "zerolinewidth": 2
          },
          "yaxis": {
           "automargin": true,
           "gridcolor": "white",
           "linecolor": "white",
           "ticks": "",
           "title": {
            "standoff": 15
           },
           "zerolinecolor": "white",
           "zerolinewidth": 2
          }
         }
        },
        "title": {
         "text": "Relationship Between Shares and Total Impressions"
        },
        "xaxis": {
         "anchor": "y",
         "domain": [
          0,
          1
         ],
         "title": {
          "text": "Impressions"
         }
        },
        "yaxis": {
         "anchor": "x",
         "domain": [
          0,
          1
         ],
         "title": {
          "text": "Shares"
         }
        }
       }
      }
     },
     "metadata": {},
     "output_type": "display_data"
    }
   ],
   "source": [
    "# Create a scatter plot using Plotly Express (px.scatter) to visualize the relationship between 'Impressions' and 'Shares'.\n",
    "# The 'data_frame' parameter specifies the DataFrame to be used for plotting, which is 'data'.\n",
    "# The 'x' parameter specifies the column to be used as the x-axis values, which is 'Impressions'.\n",
    "# The 'y' parameter specifies the column to be used as the y-axis values, which is 'Shares'.\n",
    "# The 'size' parameter sets the size of the markers based on the 'Shares' values, making larger markers for more shares.\n",
    "# The 'trendline' parameter adds a trendline to the scatter plot using ordinary least squares (OLS) linear regression.\n",
    "# The 'title' parameter sets the title of the scatter plot.\n",
    "figure = px.scatter(data_frame=data, x=\"Impressions\", y=\"Shares\", size=\"Shares\", trendline=\"ols\", \n",
    "                    title=\"Relationship Between Shares and Total Impressions\")\n",
    "\n",
    "# Display the scatter plot.\n",
    "figure.show()\n"
   ]
  },
  {
   "cell_type": "code",
   "execution_count": 10,
   "metadata": {},
   "outputs": [
    {
     "data": {
      "application/vnd.plotly.v1+json": {
       "config": {
        "plotlyServerURL": "https://plot.ly"
       },
       "data": [
        {
         "hovertemplate": "Impressions=%{x}<br>Saves=%{marker.size}<extra></extra>",
         "legendgroup": "",
         "marker": {
          "color": "#636efa",
          "size": [
           98,
           194,
           41,
           172,
           96,
           74,
           22,
           135,
           155,
           122,
           28,
           122,
           119,
           121,
           100,
           101,
           111,
           106,
           82,
           40,
           49,
           72,
           167,
           63,
           144,
           135,
           61,
           40,
           139,
           52,
           84,
           81,
           79,
           105,
           90,
           34,
           45,
           98,
           35,
           49,
           252,
           167,
           111,
           90,
           144,
           263,
           137,
           67,
           288,
           668,
           42,
           342,
           48,
           250,
           219,
           118,
           143,
           99,
           89,
           148,
           42,
           171,
           109,
           38,
           421,
           38,
           116,
           225,
           144,
           51,
           104,
           33,
           174,
           46,
           179,
           34,
           99,
           174,
           70,
           149,
           207,
           318,
           101,
           111,
           106,
           82,
           40,
           137,
           67,
           288,
           668,
           42,
           63,
           144,
           135,
           61,
           40,
           139,
           52,
           393,
           152,
           83,
           74,
           94,
           188,
           214,
           73,
           285,
           469,
           504,
           149,
           55,
           273,
           182,
           573,
           135,
           36,
           1095,
           653
          ],
          "sizemode": "area",
          "sizeref": 2.7375,
          "symbol": "circle"
         },
         "mode": "markers",
         "name": "",
         "orientation": "v",
         "showlegend": false,
         "type": "scatter",
         "x": [
          3920,
          5394,
          4021,
          4528,
          2518,
          3884,
          2621,
          3541,
          3749,
          4115,
          2218,
          3234,
          4344,
          3216,
          9453,
          5055,
          4002,
          3169,
          6168,
          2407,
          2064,
          3973,
          7281,
          3052,
          4628,
          4082,
          5394,
          2766,
          3924,
          3015,
          6666,
          3854,
          4355,
          4343,
          6108,
          2523,
          2327,
          3990,
          2191,
          1941,
          16062,
          4998,
          4289,
          3880,
          3786,
          4298,
          3630,
          2826,
          7407,
          10386,
          2998,
          7018,
          2941,
          6432,
          10667,
          3988,
          4978,
          3388,
          4467,
          3246,
          5072,
          6339,
          4239,
          3454,
          7571,
          3333,
          3818,
          10933,
          5058,
          3601,
          3480,
          3525,
          3606,
          5542,
          6559,
          3623,
          10493,
          4446,
          2957,
          5538,
          4681,
          5273,
          5055,
          4002,
          3169,
          6168,
          2407,
          3630,
          2826,
          7407,
          10386,
          2998,
          3052,
          4628,
          4082,
          5394,
          2766,
          3924,
          3015,
          5409,
          5323,
          8001,
          4150,
          4609,
          6348,
          11068,
          7231,
          17396,
          6814,
          17713,
          5563,
          4842,
          11149,
          10206,
          13700,
          5731,
          4139,
          32695,
          36919
         ],
         "xaxis": "x",
         "y": [
          98,
          194,
          41,
          172,
          96,
          74,
          22,
          135,
          155,
          122,
          28,
          122,
          119,
          121,
          100,
          101,
          111,
          106,
          82,
          40,
          49,
          72,
          167,
          63,
          144,
          135,
          61,
          40,
          139,
          52,
          84,
          81,
          79,
          105,
          90,
          34,
          45,
          98,
          35,
          49,
          252,
          167,
          111,
          90,
          144,
          263,
          137,
          67,
          288,
          668,
          42,
          342,
          48,
          250,
          219,
          118,
          143,
          99,
          89,
          148,
          42,
          171,
          109,
          38,
          421,
          38,
          116,
          225,
          144,
          51,
          104,
          33,
          174,
          46,
          179,
          34,
          99,
          174,
          70,
          149,
          207,
          318,
          101,
          111,
          106,
          82,
          40,
          137,
          67,
          288,
          668,
          42,
          63,
          144,
          135,
          61,
          40,
          139,
          52,
          393,
          152,
          83,
          74,
          94,
          188,
          214,
          73,
          285,
          469,
          504,
          149,
          55,
          273,
          182,
          573,
          135,
          36,
          1095,
          653
         ],
         "yaxis": "y"
        },
        {
         "hovertemplate": "<b>OLS trendline</b><br>Saves = 0.0251472 * Impressions + 9.8713<br>R<sup>2</sup>=0.607202<br><br>Impressions=%{x}<br>Saves=%{y} <b>(trend)</b><extra></extra>",
         "legendgroup": "",
         "marker": {
          "color": "#636efa",
          "symbol": "circle"
         },
         "mode": "lines",
         "name": "",
         "showlegend": false,
         "type": "scatter",
         "x": [
          1941,
          2064,
          2191,
          2218,
          2327,
          2407,
          2407,
          2518,
          2523,
          2621,
          2766,
          2766,
          2826,
          2826,
          2941,
          2957,
          2998,
          2998,
          3015,
          3015,
          3052,
          3052,
          3169,
          3169,
          3216,
          3234,
          3246,
          3333,
          3388,
          3454,
          3480,
          3525,
          3541,
          3601,
          3606,
          3623,
          3630,
          3630,
          3749,
          3786,
          3818,
          3854,
          3880,
          3884,
          3920,
          3924,
          3924,
          3973,
          3988,
          3990,
          4002,
          4002,
          4021,
          4082,
          4082,
          4115,
          4139,
          4150,
          4239,
          4289,
          4298,
          4343,
          4344,
          4355,
          4446,
          4467,
          4528,
          4609,
          4628,
          4628,
          4681,
          4842,
          4978,
          4998,
          5055,
          5055,
          5058,
          5072,
          5273,
          5323,
          5394,
          5394,
          5394,
          5409,
          5538,
          5542,
          5563,
          5731,
          6108,
          6168,
          6168,
          6339,
          6348,
          6432,
          6559,
          6666,
          6814,
          7018,
          7231,
          7281,
          7407,
          7407,
          7571,
          8001,
          9453,
          10206,
          10386,
          10386,
          10493,
          10667,
          10933,
          11068,
          11149,
          13700,
          16062,
          17396,
          17713,
          32695,
          36919
         ],
         "xaxis": "x",
         "y": [
          58.68208296613897,
          61.77519311367183,
          64.96889220909193,
          65.64786760733085,
          68.38891643725836,
          70.40069539500331,
          70.40069539500331,
          73.19203869887443,
          73.31777488373348,
          75.78220410697104,
          79.42855346788376,
          79.42855346788376,
          80.93738768619248,
          80.93738768619248,
          83.82931993795084,
          84.23167572949983,
          85.26271244534412,
          85.26271244534412,
          85.69021547386491,
          85.69021547386491,
          86.62066324182196,
          86.62066324182196,
          89.56288996752394,
          89.56288996752394,
          90.74481010519911,
          91.19746037069172,
          91.49922721435345,
          93.68703683090109,
          95.07013486435075,
          96.72985250449032,
          97.38368066575744,
          98.51530632948896,
          98.91766212103796,
          100.42649633934667,
          100.55223252420573,
          100.97973555272654,
          101.15576621152921,
          101.15576621152921,
          104.14828741117482,
          105.07873517913187,
          105.88344676222985,
          106.78874729321507,
          107.44257545448218,
          107.54316440236943,
          108.44846493335466,
          108.5490538812419,
          108.5490538812419,
          109.78126849286069,
          110.15847704743786,
          110.2087715213815,
          110.51053836504323,
          110.51053836504323,
          110.98833586750766,
          112.52231732278818,
          112.52231732278818,
          113.35217614285797,
          113.95570983018145,
          114.23232943687138,
          116.47043352736264,
          117.72779537595324,
          117.95412050869955,
          119.08574617243107,
          119.11089340940289,
          119.38751301609283,
          121.6759115805277,
          122.20400355693575,
          123.73798501221627,
          125.77491120693303,
          126.25270870939745,
          126.25270870939745,
          127.58551226890349,
          131.63421742136518,
          135.0542416495316,
          135.55718638896786,
          136.99057889636111,
          136.99057889636111,
          137.06602060727656,
          137.41808192488193,
          142.4726765562161,
          143.7300384048067,
          145.51549222980535,
          145.51549222980535,
          145.51549222980535,
          145.89270078438253,
          149.13669435374626,
          149.2372833016335,
          149.76537527804155,
          153.99011108930594,
          163.47061942767903,
          164.97945364598775,
          164.97945364598775,
          169.27963116816755,
          169.50595630091388,
          171.61832420654608,
          174.81202330196618,
          177.50277765795005,
          181.2245687297782,
          186.35460507202782,
          191.71096654702376,
          192.96832839561435,
          196.13688025406265,
          196.13688025406265,
          200.2610271174398,
          211.07433901531888,
          247.58812709838972,
          266.52399653816406,
          271.05049919309016,
          271.05049919309016,
          273.74125354907403,
          278.1168727821693,
          284.8060378166713,
          288.2009148078659,
          290.2378410025826,
          354.3884425176747,
          413.78621624509435,
          447.33263036549135,
          455.30430448555575,
          832.0602087972411,
          938.2821377661744
         ],
         "yaxis": "y"
        }
       ],
       "layout": {
        "legend": {
         "itemsizing": "constant",
         "tracegroupgap": 0
        },
        "template": {
         "data": {
          "bar": [
           {
            "error_x": {
             "color": "#2a3f5f"
            },
            "error_y": {
             "color": "#2a3f5f"
            },
            "marker": {
             "line": {
              "color": "#E5ECF6",
              "width": 0.5
             },
             "pattern": {
              "fillmode": "overlay",
              "size": 10,
              "solidity": 0.2
             }
            },
            "type": "bar"
           }
          ],
          "barpolar": [
           {
            "marker": {
             "line": {
              "color": "#E5ECF6",
              "width": 0.5
             },
             "pattern": {
              "fillmode": "overlay",
              "size": 10,
              "solidity": 0.2
             }
            },
            "type": "barpolar"
           }
          ],
          "carpet": [
           {
            "aaxis": {
             "endlinecolor": "#2a3f5f",
             "gridcolor": "white",
             "linecolor": "white",
             "minorgridcolor": "white",
             "startlinecolor": "#2a3f5f"
            },
            "baxis": {
             "endlinecolor": "#2a3f5f",
             "gridcolor": "white",
             "linecolor": "white",
             "minorgridcolor": "white",
             "startlinecolor": "#2a3f5f"
            },
            "type": "carpet"
           }
          ],
          "choropleth": [
           {
            "colorbar": {
             "outlinewidth": 0,
             "ticks": ""
            },
            "type": "choropleth"
           }
          ],
          "contour": [
           {
            "colorbar": {
             "outlinewidth": 0,
             "ticks": ""
            },
            "colorscale": [
             [
              0,
              "#0d0887"
             ],
             [
              0.1111111111111111,
              "#46039f"
             ],
             [
              0.2222222222222222,
              "#7201a8"
             ],
             [
              0.3333333333333333,
              "#9c179e"
             ],
             [
              0.4444444444444444,
              "#bd3786"
             ],
             [
              0.5555555555555556,
              "#d8576b"
             ],
             [
              0.6666666666666666,
              "#ed7953"
             ],
             [
              0.7777777777777778,
              "#fb9f3a"
             ],
             [
              0.8888888888888888,
              "#fdca26"
             ],
             [
              1,
              "#f0f921"
             ]
            ],
            "type": "contour"
           }
          ],
          "contourcarpet": [
           {
            "colorbar": {
             "outlinewidth": 0,
             "ticks": ""
            },
            "type": "contourcarpet"
           }
          ],
          "heatmap": [
           {
            "colorbar": {
             "outlinewidth": 0,
             "ticks": ""
            },
            "colorscale": [
             [
              0,
              "#0d0887"
             ],
             [
              0.1111111111111111,
              "#46039f"
             ],
             [
              0.2222222222222222,
              "#7201a8"
             ],
             [
              0.3333333333333333,
              "#9c179e"
             ],
             [
              0.4444444444444444,
              "#bd3786"
             ],
             [
              0.5555555555555556,
              "#d8576b"
             ],
             [
              0.6666666666666666,
              "#ed7953"
             ],
             [
              0.7777777777777778,
              "#fb9f3a"
             ],
             [
              0.8888888888888888,
              "#fdca26"
             ],
             [
              1,
              "#f0f921"
             ]
            ],
            "type": "heatmap"
           }
          ],
          "heatmapgl": [
           {
            "colorbar": {
             "outlinewidth": 0,
             "ticks": ""
            },
            "colorscale": [
             [
              0,
              "#0d0887"
             ],
             [
              0.1111111111111111,
              "#46039f"
             ],
             [
              0.2222222222222222,
              "#7201a8"
             ],
             [
              0.3333333333333333,
              "#9c179e"
             ],
             [
              0.4444444444444444,
              "#bd3786"
             ],
             [
              0.5555555555555556,
              "#d8576b"
             ],
             [
              0.6666666666666666,
              "#ed7953"
             ],
             [
              0.7777777777777778,
              "#fb9f3a"
             ],
             [
              0.8888888888888888,
              "#fdca26"
             ],
             [
              1,
              "#f0f921"
             ]
            ],
            "type": "heatmapgl"
           }
          ],
          "histogram": [
           {
            "marker": {
             "pattern": {
              "fillmode": "overlay",
              "size": 10,
              "solidity": 0.2
             }
            },
            "type": "histogram"
           }
          ],
          "histogram2d": [
           {
            "colorbar": {
             "outlinewidth": 0,
             "ticks": ""
            },
            "colorscale": [
             [
              0,
              "#0d0887"
             ],
             [
              0.1111111111111111,
              "#46039f"
             ],
             [
              0.2222222222222222,
              "#7201a8"
             ],
             [
              0.3333333333333333,
              "#9c179e"
             ],
             [
              0.4444444444444444,
              "#bd3786"
             ],
             [
              0.5555555555555556,
              "#d8576b"
             ],
             [
              0.6666666666666666,
              "#ed7953"
             ],
             [
              0.7777777777777778,
              "#fb9f3a"
             ],
             [
              0.8888888888888888,
              "#fdca26"
             ],
             [
              1,
              "#f0f921"
             ]
            ],
            "type": "histogram2d"
           }
          ],
          "histogram2dcontour": [
           {
            "colorbar": {
             "outlinewidth": 0,
             "ticks": ""
            },
            "colorscale": [
             [
              0,
              "#0d0887"
             ],
             [
              0.1111111111111111,
              "#46039f"
             ],
             [
              0.2222222222222222,
              "#7201a8"
             ],
             [
              0.3333333333333333,
              "#9c179e"
             ],
             [
              0.4444444444444444,
              "#bd3786"
             ],
             [
              0.5555555555555556,
              "#d8576b"
             ],
             [
              0.6666666666666666,
              "#ed7953"
             ],
             [
              0.7777777777777778,
              "#fb9f3a"
             ],
             [
              0.8888888888888888,
              "#fdca26"
             ],
             [
              1,
              "#f0f921"
             ]
            ],
            "type": "histogram2dcontour"
           }
          ],
          "mesh3d": [
           {
            "colorbar": {
             "outlinewidth": 0,
             "ticks": ""
            },
            "type": "mesh3d"
           }
          ],
          "parcoords": [
           {
            "line": {
             "colorbar": {
              "outlinewidth": 0,
              "ticks": ""
             }
            },
            "type": "parcoords"
           }
          ],
          "pie": [
           {
            "automargin": true,
            "type": "pie"
           }
          ],
          "scatter": [
           {
            "fillpattern": {
             "fillmode": "overlay",
             "size": 10,
             "solidity": 0.2
            },
            "type": "scatter"
           }
          ],
          "scatter3d": [
           {
            "line": {
             "colorbar": {
              "outlinewidth": 0,
              "ticks": ""
             }
            },
            "marker": {
             "colorbar": {
              "outlinewidth": 0,
              "ticks": ""
             }
            },
            "type": "scatter3d"
           }
          ],
          "scattercarpet": [
           {
            "marker": {
             "colorbar": {
              "outlinewidth": 0,
              "ticks": ""
             }
            },
            "type": "scattercarpet"
           }
          ],
          "scattergeo": [
           {
            "marker": {
             "colorbar": {
              "outlinewidth": 0,
              "ticks": ""
             }
            },
            "type": "scattergeo"
           }
          ],
          "scattergl": [
           {
            "marker": {
             "colorbar": {
              "outlinewidth": 0,
              "ticks": ""
             }
            },
            "type": "scattergl"
           }
          ],
          "scattermapbox": [
           {
            "marker": {
             "colorbar": {
              "outlinewidth": 0,
              "ticks": ""
             }
            },
            "type": "scattermapbox"
           }
          ],
          "scatterpolar": [
           {
            "marker": {
             "colorbar": {
              "outlinewidth": 0,
              "ticks": ""
             }
            },
            "type": "scatterpolar"
           }
          ],
          "scatterpolargl": [
           {
            "marker": {
             "colorbar": {
              "outlinewidth": 0,
              "ticks": ""
             }
            },
            "type": "scatterpolargl"
           }
          ],
          "scatterternary": [
           {
            "marker": {
             "colorbar": {
              "outlinewidth": 0,
              "ticks": ""
             }
            },
            "type": "scatterternary"
           }
          ],
          "surface": [
           {
            "colorbar": {
             "outlinewidth": 0,
             "ticks": ""
            },
            "colorscale": [
             [
              0,
              "#0d0887"
             ],
             [
              0.1111111111111111,
              "#46039f"
             ],
             [
              0.2222222222222222,
              "#7201a8"
             ],
             [
              0.3333333333333333,
              "#9c179e"
             ],
             [
              0.4444444444444444,
              "#bd3786"
             ],
             [
              0.5555555555555556,
              "#d8576b"
             ],
             [
              0.6666666666666666,
              "#ed7953"
             ],
             [
              0.7777777777777778,
              "#fb9f3a"
             ],
             [
              0.8888888888888888,
              "#fdca26"
             ],
             [
              1,
              "#f0f921"
             ]
            ],
            "type": "surface"
           }
          ],
          "table": [
           {
            "cells": {
             "fill": {
              "color": "#EBF0F8"
             },
             "line": {
              "color": "white"
             }
            },
            "header": {
             "fill": {
              "color": "#C8D4E3"
             },
             "line": {
              "color": "white"
             }
            },
            "type": "table"
           }
          ]
         },
         "layout": {
          "annotationdefaults": {
           "arrowcolor": "#2a3f5f",
           "arrowhead": 0,
           "arrowwidth": 1
          },
          "autotypenumbers": "strict",
          "coloraxis": {
           "colorbar": {
            "outlinewidth": 0,
            "ticks": ""
           }
          },
          "colorscale": {
           "diverging": [
            [
             0,
             "#8e0152"
            ],
            [
             0.1,
             "#c51b7d"
            ],
            [
             0.2,
             "#de77ae"
            ],
            [
             0.3,
             "#f1b6da"
            ],
            [
             0.4,
             "#fde0ef"
            ],
            [
             0.5,
             "#f7f7f7"
            ],
            [
             0.6,
             "#e6f5d0"
            ],
            [
             0.7,
             "#b8e186"
            ],
            [
             0.8,
             "#7fbc41"
            ],
            [
             0.9,
             "#4d9221"
            ],
            [
             1,
             "#276419"
            ]
           ],
           "sequential": [
            [
             0,
             "#0d0887"
            ],
            [
             0.1111111111111111,
             "#46039f"
            ],
            [
             0.2222222222222222,
             "#7201a8"
            ],
            [
             0.3333333333333333,
             "#9c179e"
            ],
            [
             0.4444444444444444,
             "#bd3786"
            ],
            [
             0.5555555555555556,
             "#d8576b"
            ],
            [
             0.6666666666666666,
             "#ed7953"
            ],
            [
             0.7777777777777778,
             "#fb9f3a"
            ],
            [
             0.8888888888888888,
             "#fdca26"
            ],
            [
             1,
             "#f0f921"
            ]
           ],
           "sequentialminus": [
            [
             0,
             "#0d0887"
            ],
            [
             0.1111111111111111,
             "#46039f"
            ],
            [
             0.2222222222222222,
             "#7201a8"
            ],
            [
             0.3333333333333333,
             "#9c179e"
            ],
            [
             0.4444444444444444,
             "#bd3786"
            ],
            [
             0.5555555555555556,
             "#d8576b"
            ],
            [
             0.6666666666666666,
             "#ed7953"
            ],
            [
             0.7777777777777778,
             "#fb9f3a"
            ],
            [
             0.8888888888888888,
             "#fdca26"
            ],
            [
             1,
             "#f0f921"
            ]
           ]
          },
          "colorway": [
           "#636efa",
           "#EF553B",
           "#00cc96",
           "#ab63fa",
           "#FFA15A",
           "#19d3f3",
           "#FF6692",
           "#B6E880",
           "#FF97FF",
           "#FECB52"
          ],
          "font": {
           "color": "#2a3f5f"
          },
          "geo": {
           "bgcolor": "white",
           "lakecolor": "white",
           "landcolor": "#E5ECF6",
           "showlakes": true,
           "showland": true,
           "subunitcolor": "white"
          },
          "hoverlabel": {
           "align": "left"
          },
          "hovermode": "closest",
          "mapbox": {
           "style": "light"
          },
          "paper_bgcolor": "white",
          "plot_bgcolor": "#E5ECF6",
          "polar": {
           "angularaxis": {
            "gridcolor": "white",
            "linecolor": "white",
            "ticks": ""
           },
           "bgcolor": "#E5ECF6",
           "radialaxis": {
            "gridcolor": "white",
            "linecolor": "white",
            "ticks": ""
           }
          },
          "scene": {
           "xaxis": {
            "backgroundcolor": "#E5ECF6",
            "gridcolor": "white",
            "gridwidth": 2,
            "linecolor": "white",
            "showbackground": true,
            "ticks": "",
            "zerolinecolor": "white"
           },
           "yaxis": {
            "backgroundcolor": "#E5ECF6",
            "gridcolor": "white",
            "gridwidth": 2,
            "linecolor": "white",
            "showbackground": true,
            "ticks": "",
            "zerolinecolor": "white"
           },
           "zaxis": {
            "backgroundcolor": "#E5ECF6",
            "gridcolor": "white",
            "gridwidth": 2,
            "linecolor": "white",
            "showbackground": true,
            "ticks": "",
            "zerolinecolor": "white"
           }
          },
          "shapedefaults": {
           "line": {
            "color": "#2a3f5f"
           }
          },
          "ternary": {
           "aaxis": {
            "gridcolor": "white",
            "linecolor": "white",
            "ticks": ""
           },
           "baxis": {
            "gridcolor": "white",
            "linecolor": "white",
            "ticks": ""
           },
           "bgcolor": "#E5ECF6",
           "caxis": {
            "gridcolor": "white",
            "linecolor": "white",
            "ticks": ""
           }
          },
          "title": {
           "x": 0.05
          },
          "xaxis": {
           "automargin": true,
           "gridcolor": "white",
           "linecolor": "white",
           "ticks": "",
           "title": {
            "standoff": 15
           },
           "zerolinecolor": "white",
           "zerolinewidth": 2
          },
          "yaxis": {
           "automargin": true,
           "gridcolor": "white",
           "linecolor": "white",
           "ticks": "",
           "title": {
            "standoff": 15
           },
           "zerolinecolor": "white",
           "zerolinewidth": 2
          }
         }
        },
        "title": {
         "text": "Relationship Between Post Saves and Total Impressions"
        },
        "xaxis": {
         "anchor": "y",
         "domain": [
          0,
          1
         ],
         "title": {
          "text": "Impressions"
         }
        },
        "yaxis": {
         "anchor": "x",
         "domain": [
          0,
          1
         ],
         "title": {
          "text": "Saves"
         }
        }
       }
      }
     },
     "metadata": {},
     "output_type": "display_data"
    }
   ],
   "source": [
    "# Create a scatter plot using Plotly Express (px.scatter) to visualize the relationship between 'Impressions' and 'Saves'.\n",
    "# The 'data_frame' parameter specifies the DataFrame to be used for plotting, which is 'data'.\n",
    "# The 'x' parameter specifies the column to be used as the x-axis values, which is 'Impressions'.\n",
    "# The 'y' parameter specifies the column to be used as the y-axis values, which is 'Saves'.\n",
    "# The 'size' parameter sets the size of the markers based on the 'Saves' values, making larger markers for more saves.\n",
    "# The 'trendline' parameter adds a trendline to the scatter plot using ordinary least squares (OLS) linear regression.\n",
    "# The 'title' parameter sets the title of the scatter plot.\n",
    "figure = px.scatter(data_frame=data, x=\"Impressions\", y=\"Saves\", size=\"Saves\", trendline=\"ols\", \n",
    "                    title=\"Relationship Between Post Saves and Total Impressions\")\n",
    "\n",
    "# Display the scatter plot.\n",
    "figure.show()\n"
   ]
  },
  {
   "cell_type": "code",
   "execution_count": 11,
   "metadata": {},
   "outputs": [
    {
     "name": "stdout",
     "output_type": "stream",
     "text": [
      "Impressions       1.000000\n",
      "From Explore      0.893607\n",
      "Follows           0.889363\n",
      "Likes             0.849835\n",
      "From Home         0.844698\n",
      "Saves             0.779231\n",
      "Profile Visits    0.760981\n",
      "Shares            0.634675\n",
      "From Other        0.592960\n",
      "From Hashtags     0.560760\n",
      "Comments         -0.028524\n",
      "Name: Impressions, dtype: float64\n"
     ]
    }
   ],
   "source": [
    "# Calculate the correlation matrix for the 'data' DataFrame using the 'corr()' method.\n",
    "correlation = data.corr()\n",
    "\n",
    "# Print the correlation coefficients between 'Impressions' and other columns in descending order.\n",
    "# The 'sort_values(ascending=False)' method sorts the correlation coefficients in descending order.\n",
    "print(correlation[\"Impressions\"].sort_values(ascending=False))\n"
   ]
  },
  {
   "cell_type": "code",
   "execution_count": 12,
   "metadata": {},
   "outputs": [
    {
     "name": "stdout",
     "output_type": "stream",
     "text": [
      "41.00265604249668\n"
     ]
    }
   ],
   "source": [
    "# Calculate the conversion rate as a percentage by dividing the total number of follows by the total number of profile visits.\n",
    "# The 'Follows' column contains the total number of followers gained from Instagram posts.\n",
    "# The 'Profile Visits' column contains the total number of profile visits from those posts.\n",
    "# The formula \"(data[\"Follows\"].sum() / data[\"Profile Visits\"].sum()) * 100\" calculates the conversion rate in percentage.\n",
    "conversion_rate = (data[\"Follows\"].sum() / data[\"Profile Visits\"].sum()) * 100\n",
    "\n",
    "# Print the calculated conversion rate.\n",
    "print(conversion_rate)\n"
   ]
  },
  {
   "cell_type": "code",
   "execution_count": 13,
   "metadata": {},
   "outputs": [
    {
     "data": {
      "application/vnd.plotly.v1+json": {
       "config": {
        "plotlyServerURL": "https://plot.ly"
       },
       "data": [
        {
         "hovertemplate": "Profile Visits=%{x}<br>Follows=%{marker.size}<extra></extra>",
         "legendgroup": "",
         "marker": {
          "color": "#636efa",
          "size": [
           2,
           10,
           12,
           8,
           0,
           2,
           0,
           6,
           4,
           6,
           4,
           0,
           2,
           4,
           42,
           6,
           2,
           2,
           30,
           0,
           0,
           24,
           100,
           2,
           4,
           6,
           6,
           6,
           2,
           2,
           20,
           2,
           4,
           8,
           26,
           2,
           2,
           4,
           0,
           2,
           94,
           8,
           18,
           10,
           4,
           4,
           4,
           4,
           18,
           38,
           10,
           12,
           4,
           4,
           74,
           0,
           6,
           6,
           0,
           6,
           12,
           10,
           8,
           8,
           46,
           12,
           10,
           94,
           6,
           10,
           6,
           4,
           12,
           16,
           12,
           8,
           32,
           8,
           16,
           6,
           10,
           10,
           6,
           2,
           2,
           30,
           0,
           4,
           4,
           18,
           38,
           10,
           2,
           4,
           6,
           6,
           6,
           2,
           2,
           14,
           8,
           14,
           28,
           18,
           12,
           34,
           26,
           260,
           16,
           96,
           20,
           30,
           58,
           100,
           80,
           18,
           10,
           214,
           228
          ],
          "sizemode": "area",
          "sizeref": 0.65,
          "symbol": "circle"
         },
         "mode": "markers",
         "name": "",
         "orientation": "v",
         "showlegend": false,
         "type": "scatter",
         "x": [
          35,
          48,
          62,
          23,
          8,
          9,
          26,
          12,
          36,
          31,
          29,
          15,
          8,
          20,
          181,
          17,
          16,
          21,
          77,
          10,
          9,
          11,
          144,
          14,
          10,
          19,
          69,
          11,
          19,
          9,
          57,
          13,
          11,
          24,
          81,
          4,
          7,
          14,
          18,
          8,
          330,
          21,
          19,
          32,
          19,
          21,
          14,
          30,
          39,
          42,
          31,
          20,
          12,
          22,
          306,
          13,
          26,
          16,
          15,
          15,
          39,
          21,
          8,
          45,
          50,
          37,
          25,
          347,
          26,
          48,
          16,
          26,
          17,
          52,
          22,
          41,
          155,
          12,
          22,
          20,
          23,
          25,
          17,
          16,
          21,
          77,
          10,
          14,
          30,
          39,
          42,
          31,
          14,
          10,
          19,
          69,
          11,
          19,
          9,
          38,
          42,
          92,
          75,
          21,
          26,
          39,
          74,
          467,
          24,
          70,
          22,
          46,
          61,
          237,
          73,
          20,
          34,
          148,
          611
         ],
         "xaxis": "x",
         "y": [
          2,
          10,
          12,
          8,
          0,
          2,
          0,
          6,
          4,
          6,
          4,
          0,
          2,
          4,
          42,
          6,
          2,
          2,
          30,
          0,
          0,
          24,
          100,
          2,
          4,
          6,
          6,
          6,
          2,
          2,
          20,
          2,
          4,
          8,
          26,
          2,
          2,
          4,
          0,
          2,
          94,
          8,
          18,
          10,
          4,
          4,
          4,
          4,
          18,
          38,
          10,
          12,
          4,
          4,
          74,
          0,
          6,
          6,
          0,
          6,
          12,
          10,
          8,
          8,
          46,
          12,
          10,
          94,
          6,
          10,
          6,
          4,
          12,
          16,
          12,
          8,
          32,
          8,
          16,
          6,
          10,
          10,
          6,
          2,
          2,
          30,
          0,
          4,
          4,
          18,
          38,
          10,
          2,
          4,
          6,
          6,
          6,
          2,
          2,
          14,
          8,
          14,
          28,
          18,
          12,
          34,
          26,
          260,
          16,
          96,
          20,
          30,
          58,
          100,
          80,
          18,
          10,
          214,
          228
         ],
         "yaxis": "y"
        },
        {
         "hovertemplate": "<b>OLS trendline</b><br>Follows = 0.400884 * Profile Visits + 0.46283<br>R<sup>2</sup>=0.727868<br><br>Profile Visits=%{x}<br>Follows=%{y} <b>(trend)</b><extra></extra>",
         "legendgroup": "",
         "marker": {
          "color": "#636efa",
          "symbol": "circle"
         },
         "mode": "lines",
         "name": "",
         "showlegend": false,
         "type": "scatter",
         "x": [
          4,
          7,
          8,
          8,
          8,
          8,
          9,
          9,
          9,
          9,
          10,
          10,
          10,
          10,
          11,
          11,
          11,
          11,
          12,
          12,
          12,
          13,
          13,
          14,
          14,
          14,
          14,
          14,
          15,
          15,
          15,
          16,
          16,
          16,
          16,
          17,
          17,
          17,
          18,
          19,
          19,
          19,
          19,
          19,
          19,
          20,
          20,
          20,
          20,
          21,
          21,
          21,
          21,
          21,
          21,
          22,
          22,
          22,
          22,
          23,
          23,
          24,
          24,
          25,
          25,
          26,
          26,
          26,
          26,
          26,
          29,
          30,
          30,
          31,
          31,
          31,
          32,
          34,
          35,
          36,
          37,
          38,
          39,
          39,
          39,
          39,
          41,
          42,
          42,
          42,
          45,
          46,
          48,
          48,
          50,
          52,
          57,
          61,
          62,
          69,
          69,
          70,
          73,
          74,
          75,
          77,
          77,
          81,
          92,
          144,
          148,
          155,
          181,
          237,
          306,
          330,
          347,
          467,
          611
         ],
         "xaxis": "x",
         "y": [
          2.066365070422533,
          3.269016056338026,
          3.669899718309857,
          3.669899718309857,
          3.669899718309857,
          3.669899718309857,
          4.0707833802816875,
          4.0707833802816875,
          4.0707833802816875,
          4.0707833802816875,
          4.471667042253519,
          4.471667042253519,
          4.471667042253519,
          4.471667042253519,
          4.87255070422535,
          4.87255070422535,
          4.87255070422535,
          4.87255070422535,
          5.273434366197181,
          5.273434366197181,
          5.273434366197181,
          5.6743180281690115,
          5.6743180281690115,
          6.075201690140843,
          6.075201690140843,
          6.075201690140843,
          6.075201690140843,
          6.075201690140843,
          6.476085352112674,
          6.476085352112674,
          6.476085352112674,
          6.876969014084505,
          6.876969014084505,
          6.876969014084505,
          6.876969014084505,
          7.277852676056336,
          7.277852676056336,
          7.277852676056336,
          7.678736338028167,
          8.079619999999998,
          8.079619999999998,
          8.079619999999998,
          8.079619999999998,
          8.079619999999998,
          8.079619999999998,
          8.480503661971829,
          8.480503661971829,
          8.480503661971829,
          8.480503661971829,
          8.88138732394366,
          8.88138732394366,
          8.88138732394366,
          8.88138732394366,
          8.88138732394366,
          8.88138732394366,
          9.282270985915492,
          9.282270985915492,
          9.282270985915492,
          9.282270985915492,
          9.683154647887322,
          9.683154647887322,
          10.084038309859153,
          10.084038309859153,
          10.484921971830984,
          10.484921971830984,
          10.885805633802814,
          10.885805633802814,
          10.885805633802814,
          10.885805633802814,
          10.885805633802814,
          12.088456619718308,
          12.48934028169014,
          12.48934028169014,
          12.89022394366197,
          12.89022394366197,
          12.89022394366197,
          13.291107605633801,
          14.092874929577462,
          14.493758591549295,
          14.894642253521125,
          15.295525915492956,
          15.696409577464788,
          16.097293239436617,
          16.097293239436617,
          16.097293239436617,
          16.097293239436617,
          16.89906056338028,
          17.29994422535211,
          17.29994422535211,
          17.29994422535211,
          18.502595211267604,
          18.903478873239436,
          19.705246197183097,
          19.705246197183097,
          20.50701352112676,
          21.30878084507042,
          23.313199154929578,
          24.9167338028169,
          25.317617464788732,
          28.123803098591548,
          28.123803098591548,
          28.52468676056338,
          29.727337746478874,
          30.128221408450703,
          30.529105070422535,
          31.330872394366196,
          31.330872394366196,
          32.934407042253525,
          37.34412732394367,
          58.19007774647888,
          59.79361239436619,
          62.59979802816902,
          73.02277323943662,
          95.47225830985916,
          123.13323098591549,
          132.75443887323945,
          139.56946112676056,
          187.6755005633803,
          245.40274788732395
         ],
         "yaxis": "y"
        }
       ],
       "layout": {
        "legend": {
         "itemsizing": "constant",
         "tracegroupgap": 0
        },
        "template": {
         "data": {
          "bar": [
           {
            "error_x": {
             "color": "#2a3f5f"
            },
            "error_y": {
             "color": "#2a3f5f"
            },
            "marker": {
             "line": {
              "color": "#E5ECF6",
              "width": 0.5
             },
             "pattern": {
              "fillmode": "overlay",
              "size": 10,
              "solidity": 0.2
             }
            },
            "type": "bar"
           }
          ],
          "barpolar": [
           {
            "marker": {
             "line": {
              "color": "#E5ECF6",
              "width": 0.5
             },
             "pattern": {
              "fillmode": "overlay",
              "size": 10,
              "solidity": 0.2
             }
            },
            "type": "barpolar"
           }
          ],
          "carpet": [
           {
            "aaxis": {
             "endlinecolor": "#2a3f5f",
             "gridcolor": "white",
             "linecolor": "white",
             "minorgridcolor": "white",
             "startlinecolor": "#2a3f5f"
            },
            "baxis": {
             "endlinecolor": "#2a3f5f",
             "gridcolor": "white",
             "linecolor": "white",
             "minorgridcolor": "white",
             "startlinecolor": "#2a3f5f"
            },
            "type": "carpet"
           }
          ],
          "choropleth": [
           {
            "colorbar": {
             "outlinewidth": 0,
             "ticks": ""
            },
            "type": "choropleth"
           }
          ],
          "contour": [
           {
            "colorbar": {
             "outlinewidth": 0,
             "ticks": ""
            },
            "colorscale": [
             [
              0,
              "#0d0887"
             ],
             [
              0.1111111111111111,
              "#46039f"
             ],
             [
              0.2222222222222222,
              "#7201a8"
             ],
             [
              0.3333333333333333,
              "#9c179e"
             ],
             [
              0.4444444444444444,
              "#bd3786"
             ],
             [
              0.5555555555555556,
              "#d8576b"
             ],
             [
              0.6666666666666666,
              "#ed7953"
             ],
             [
              0.7777777777777778,
              "#fb9f3a"
             ],
             [
              0.8888888888888888,
              "#fdca26"
             ],
             [
              1,
              "#f0f921"
             ]
            ],
            "type": "contour"
           }
          ],
          "contourcarpet": [
           {
            "colorbar": {
             "outlinewidth": 0,
             "ticks": ""
            },
            "type": "contourcarpet"
           }
          ],
          "heatmap": [
           {
            "colorbar": {
             "outlinewidth": 0,
             "ticks": ""
            },
            "colorscale": [
             [
              0,
              "#0d0887"
             ],
             [
              0.1111111111111111,
              "#46039f"
             ],
             [
              0.2222222222222222,
              "#7201a8"
             ],
             [
              0.3333333333333333,
              "#9c179e"
             ],
             [
              0.4444444444444444,
              "#bd3786"
             ],
             [
              0.5555555555555556,
              "#d8576b"
             ],
             [
              0.6666666666666666,
              "#ed7953"
             ],
             [
              0.7777777777777778,
              "#fb9f3a"
             ],
             [
              0.8888888888888888,
              "#fdca26"
             ],
             [
              1,
              "#f0f921"
             ]
            ],
            "type": "heatmap"
           }
          ],
          "heatmapgl": [
           {
            "colorbar": {
             "outlinewidth": 0,
             "ticks": ""
            },
            "colorscale": [
             [
              0,
              "#0d0887"
             ],
             [
              0.1111111111111111,
              "#46039f"
             ],
             [
              0.2222222222222222,
              "#7201a8"
             ],
             [
              0.3333333333333333,
              "#9c179e"
             ],
             [
              0.4444444444444444,
              "#bd3786"
             ],
             [
              0.5555555555555556,
              "#d8576b"
             ],
             [
              0.6666666666666666,
              "#ed7953"
             ],
             [
              0.7777777777777778,
              "#fb9f3a"
             ],
             [
              0.8888888888888888,
              "#fdca26"
             ],
             [
              1,
              "#f0f921"
             ]
            ],
            "type": "heatmapgl"
           }
          ],
          "histogram": [
           {
            "marker": {
             "pattern": {
              "fillmode": "overlay",
              "size": 10,
              "solidity": 0.2
             }
            },
            "type": "histogram"
           }
          ],
          "histogram2d": [
           {
            "colorbar": {
             "outlinewidth": 0,
             "ticks": ""
            },
            "colorscale": [
             [
              0,
              "#0d0887"
             ],
             [
              0.1111111111111111,
              "#46039f"
             ],
             [
              0.2222222222222222,
              "#7201a8"
             ],
             [
              0.3333333333333333,
              "#9c179e"
             ],
             [
              0.4444444444444444,
              "#bd3786"
             ],
             [
              0.5555555555555556,
              "#d8576b"
             ],
             [
              0.6666666666666666,
              "#ed7953"
             ],
             [
              0.7777777777777778,
              "#fb9f3a"
             ],
             [
              0.8888888888888888,
              "#fdca26"
             ],
             [
              1,
              "#f0f921"
             ]
            ],
            "type": "histogram2d"
           }
          ],
          "histogram2dcontour": [
           {
            "colorbar": {
             "outlinewidth": 0,
             "ticks": ""
            },
            "colorscale": [
             [
              0,
              "#0d0887"
             ],
             [
              0.1111111111111111,
              "#46039f"
             ],
             [
              0.2222222222222222,
              "#7201a8"
             ],
             [
              0.3333333333333333,
              "#9c179e"
             ],
             [
              0.4444444444444444,
              "#bd3786"
             ],
             [
              0.5555555555555556,
              "#d8576b"
             ],
             [
              0.6666666666666666,
              "#ed7953"
             ],
             [
              0.7777777777777778,
              "#fb9f3a"
             ],
             [
              0.8888888888888888,
              "#fdca26"
             ],
             [
              1,
              "#f0f921"
             ]
            ],
            "type": "histogram2dcontour"
           }
          ],
          "mesh3d": [
           {
            "colorbar": {
             "outlinewidth": 0,
             "ticks": ""
            },
            "type": "mesh3d"
           }
          ],
          "parcoords": [
           {
            "line": {
             "colorbar": {
              "outlinewidth": 0,
              "ticks": ""
             }
            },
            "type": "parcoords"
           }
          ],
          "pie": [
           {
            "automargin": true,
            "type": "pie"
           }
          ],
          "scatter": [
           {
            "fillpattern": {
             "fillmode": "overlay",
             "size": 10,
             "solidity": 0.2
            },
            "type": "scatter"
           }
          ],
          "scatter3d": [
           {
            "line": {
             "colorbar": {
              "outlinewidth": 0,
              "ticks": ""
             }
            },
            "marker": {
             "colorbar": {
              "outlinewidth": 0,
              "ticks": ""
             }
            },
            "type": "scatter3d"
           }
          ],
          "scattercarpet": [
           {
            "marker": {
             "colorbar": {
              "outlinewidth": 0,
              "ticks": ""
             }
            },
            "type": "scattercarpet"
           }
          ],
          "scattergeo": [
           {
            "marker": {
             "colorbar": {
              "outlinewidth": 0,
              "ticks": ""
             }
            },
            "type": "scattergeo"
           }
          ],
          "scattergl": [
           {
            "marker": {
             "colorbar": {
              "outlinewidth": 0,
              "ticks": ""
             }
            },
            "type": "scattergl"
           }
          ],
          "scattermapbox": [
           {
            "marker": {
             "colorbar": {
              "outlinewidth": 0,
              "ticks": ""
             }
            },
            "type": "scattermapbox"
           }
          ],
          "scatterpolar": [
           {
            "marker": {
             "colorbar": {
              "outlinewidth": 0,
              "ticks": ""
             }
            },
            "type": "scatterpolar"
           }
          ],
          "scatterpolargl": [
           {
            "marker": {
             "colorbar": {
              "outlinewidth": 0,
              "ticks": ""
             }
            },
            "type": "scatterpolargl"
           }
          ],
          "scatterternary": [
           {
            "marker": {
             "colorbar": {
              "outlinewidth": 0,
              "ticks": ""
             }
            },
            "type": "scatterternary"
           }
          ],
          "surface": [
           {
            "colorbar": {
             "outlinewidth": 0,
             "ticks": ""
            },
            "colorscale": [
             [
              0,
              "#0d0887"
             ],
             [
              0.1111111111111111,
              "#46039f"
             ],
             [
              0.2222222222222222,
              "#7201a8"
             ],
             [
              0.3333333333333333,
              "#9c179e"
             ],
             [
              0.4444444444444444,
              "#bd3786"
             ],
             [
              0.5555555555555556,
              "#d8576b"
             ],
             [
              0.6666666666666666,
              "#ed7953"
             ],
             [
              0.7777777777777778,
              "#fb9f3a"
             ],
             [
              0.8888888888888888,
              "#fdca26"
             ],
             [
              1,
              "#f0f921"
             ]
            ],
            "type": "surface"
           }
          ],
          "table": [
           {
            "cells": {
             "fill": {
              "color": "#EBF0F8"
             },
             "line": {
              "color": "white"
             }
            },
            "header": {
             "fill": {
              "color": "#C8D4E3"
             },
             "line": {
              "color": "white"
             }
            },
            "type": "table"
           }
          ]
         },
         "layout": {
          "annotationdefaults": {
           "arrowcolor": "#2a3f5f",
           "arrowhead": 0,
           "arrowwidth": 1
          },
          "autotypenumbers": "strict",
          "coloraxis": {
           "colorbar": {
            "outlinewidth": 0,
            "ticks": ""
           }
          },
          "colorscale": {
           "diverging": [
            [
             0,
             "#8e0152"
            ],
            [
             0.1,
             "#c51b7d"
            ],
            [
             0.2,
             "#de77ae"
            ],
            [
             0.3,
             "#f1b6da"
            ],
            [
             0.4,
             "#fde0ef"
            ],
            [
             0.5,
             "#f7f7f7"
            ],
            [
             0.6,
             "#e6f5d0"
            ],
            [
             0.7,
             "#b8e186"
            ],
            [
             0.8,
             "#7fbc41"
            ],
            [
             0.9,
             "#4d9221"
            ],
            [
             1,
             "#276419"
            ]
           ],
           "sequential": [
            [
             0,
             "#0d0887"
            ],
            [
             0.1111111111111111,
             "#46039f"
            ],
            [
             0.2222222222222222,
             "#7201a8"
            ],
            [
             0.3333333333333333,
             "#9c179e"
            ],
            [
             0.4444444444444444,
             "#bd3786"
            ],
            [
             0.5555555555555556,
             "#d8576b"
            ],
            [
             0.6666666666666666,
             "#ed7953"
            ],
            [
             0.7777777777777778,
             "#fb9f3a"
            ],
            [
             0.8888888888888888,
             "#fdca26"
            ],
            [
             1,
             "#f0f921"
            ]
           ],
           "sequentialminus": [
            [
             0,
             "#0d0887"
            ],
            [
             0.1111111111111111,
             "#46039f"
            ],
            [
             0.2222222222222222,
             "#7201a8"
            ],
            [
             0.3333333333333333,
             "#9c179e"
            ],
            [
             0.4444444444444444,
             "#bd3786"
            ],
            [
             0.5555555555555556,
             "#d8576b"
            ],
            [
             0.6666666666666666,
             "#ed7953"
            ],
            [
             0.7777777777777778,
             "#fb9f3a"
            ],
            [
             0.8888888888888888,
             "#fdca26"
            ],
            [
             1,
             "#f0f921"
            ]
           ]
          },
          "colorway": [
           "#636efa",
           "#EF553B",
           "#00cc96",
           "#ab63fa",
           "#FFA15A",
           "#19d3f3",
           "#FF6692",
           "#B6E880",
           "#FF97FF",
           "#FECB52"
          ],
          "font": {
           "color": "#2a3f5f"
          },
          "geo": {
           "bgcolor": "white",
           "lakecolor": "white",
           "landcolor": "#E5ECF6",
           "showlakes": true,
           "showland": true,
           "subunitcolor": "white"
          },
          "hoverlabel": {
           "align": "left"
          },
          "hovermode": "closest",
          "mapbox": {
           "style": "light"
          },
          "paper_bgcolor": "white",
          "plot_bgcolor": "#E5ECF6",
          "polar": {
           "angularaxis": {
            "gridcolor": "white",
            "linecolor": "white",
            "ticks": ""
           },
           "bgcolor": "#E5ECF6",
           "radialaxis": {
            "gridcolor": "white",
            "linecolor": "white",
            "ticks": ""
           }
          },
          "scene": {
           "xaxis": {
            "backgroundcolor": "#E5ECF6",
            "gridcolor": "white",
            "gridwidth": 2,
            "linecolor": "white",
            "showbackground": true,
            "ticks": "",
            "zerolinecolor": "white"
           },
           "yaxis": {
            "backgroundcolor": "#E5ECF6",
            "gridcolor": "white",
            "gridwidth": 2,
            "linecolor": "white",
            "showbackground": true,
            "ticks": "",
            "zerolinecolor": "white"
           },
           "zaxis": {
            "backgroundcolor": "#E5ECF6",
            "gridcolor": "white",
            "gridwidth": 2,
            "linecolor": "white",
            "showbackground": true,
            "ticks": "",
            "zerolinecolor": "white"
           }
          },
          "shapedefaults": {
           "line": {
            "color": "#2a3f5f"
           }
          },
          "ternary": {
           "aaxis": {
            "gridcolor": "white",
            "linecolor": "white",
            "ticks": ""
           },
           "baxis": {
            "gridcolor": "white",
            "linecolor": "white",
            "ticks": ""
           },
           "bgcolor": "#E5ECF6",
           "caxis": {
            "gridcolor": "white",
            "linecolor": "white",
            "ticks": ""
           }
          },
          "title": {
           "x": 0.05
          },
          "xaxis": {
           "automargin": true,
           "gridcolor": "white",
           "linecolor": "white",
           "ticks": "",
           "title": {
            "standoff": 15
           },
           "zerolinecolor": "white",
           "zerolinewidth": 2
          },
          "yaxis": {
           "automargin": true,
           "gridcolor": "white",
           "linecolor": "white",
           "ticks": "",
           "title": {
            "standoff": 15
           },
           "zerolinecolor": "white",
           "zerolinewidth": 2
          }
         }
        },
        "title": {
         "text": "Relationship Between Profile Visits and Followers Gained"
        },
        "xaxis": {
         "anchor": "y",
         "domain": [
          0,
          1
         ],
         "title": {
          "text": "Profile Visits"
         }
        },
        "yaxis": {
         "anchor": "x",
         "domain": [
          0,
          1
         ],
         "title": {
          "text": "Follows"
         }
        }
       }
      }
     },
     "metadata": {},
     "output_type": "display_data"
    }
   ],
   "source": [
    "# Create a scatter plot using Plotly Express (px.scatter) to visualize the relationship between 'Profile Visits' and 'Follows'.\n",
    "# The 'data_frame' parameter specifies the DataFrame to be used for plotting, which is 'data'.\n",
    "# The 'x' parameter specifies the column to be used as the x-axis values, which is 'Profile Visits'.\n",
    "# The 'y' parameter specifies the column to be used as the y-axis values, which is 'Follows'.\n",
    "# The 'size' parameter sets the size of the markers based on the 'Follows' values, making larger markers for more follows.\n",
    "# The 'trendline' parameter adds a trendline to the scatter plot using ordinary least squares (OLS) linear regression.\n",
    "# The 'title' parameter sets the title of the scatter plot.\n",
    "figure = px.scatter(data_frame=data, x=\"Profile Visits\", y=\"Follows\", size=\"Follows\", trendline=\"ols\", \n",
    "                    title=\"Relationship Between Profile Visits and Followers Gained\")\n",
    "\n",
    "# Display the scatter plot.\n",
    "figure.show()\n"
   ]
  },
  {
   "cell_type": "code",
   "execution_count": 14,
   "metadata": {},
   "outputs": [],
   "source": [
    "# Extract the features (independent variables) 'Likes', 'Saves', 'Comments', 'Shares', 'Profile Visits', and 'Follows' from the 'data' DataFrame.\n",
    "# These features will be used to predict the 'Impressions' (dependent variable).\n",
    "x = np.array(data[['Likes', 'Saves', 'Comments', 'Shares', 'Profile Visits', 'Follows']])\n",
    "\n",
    "# Extract the target variable 'Impressions' from the 'data' DataFrame.\n",
    "y = np.array(data[\"Impressions\"])\n",
    "\n",
    "# Split the dataset into training and testing sets using 'train_test_split' from scikit-learn.\n",
    "# The 'test_size=0.2' parameter specifies that 20% of the data will be used as the test set, while 80% will be used as the training set.\n",
    "# The 'random_state=42' parameter is used to ensure reproducibility of the results by setting the random seed.\n",
    "xtrain, xtest, ytrain, ytest = train_test_split(x, y, test_size=0.2, random_state=42)\n"
   ]
  },
  {
   "cell_type": "code",
   "execution_count": 15,
   "metadata": {},
   "outputs": [
    {
     "data": {
      "text/plain": [
       "0.7926410383626659"
      ]
     },
     "execution_count": 15,
     "metadata": {},
     "output_type": "execute_result"
    }
   ],
   "source": [
    "# Create an instance of the PassiveAggressiveRegressor model from scikit-learn.\n",
    "model = PassiveAggressiveRegressor()\n",
    "\n",
    "# Train the model using the training data.\n",
    "# The 'fit' method takes the features (xtrain) and the target variable (ytrain) as inputs and fits the model to the data.\n",
    "model.fit(xtrain, ytrain)\n",
    "\n",
    "# Calculate the coefficient of determination (R-squared) score on the test set to evaluate the model's performance.\n",
    "# The 'score' method takes the features (xtest) and the target variable (ytest) as inputs and returns the R-squared score.\n",
    "# The R-squared score indicates the proportion of variance in the target variable that is predictable from the features.\n",
    "# A higher R-squared value closer to 1 indicates a better fit of the model to the test data.\n",
    "model.score(xtest, ytest)\n"
   ]
  },
  {
   "cell_type": "code",
   "execution_count": 16,
   "metadata": {},
   "outputs": [
    {
     "data": {
      "text/plain": [
       "array([9584.75079145])"
      ]
     },
     "execution_count": 16,
     "metadata": {},
     "output_type": "execute_result"
    }
   ],
   "source": [
    "# Define the features as a 2D NumPy array containing the values for 'Likes', 'Saves', 'Comments', 'Shares', 'Profile Visits', and 'Follows'.\n",
    "# The data should be in the format: [[Likes, Saves, Comments, Shares, Profile Visits, Follows]]\n",
    "features = np.array([[282.0, 233.0, 4.0, 9.0, 165.0, 54.0]])\n",
    "\n",
    "# Use the trained model to predict the target variable (Impressions) based on the provided features.\n",
    "# The 'predict' method takes the features (in this case, 'features') as inputs and returns the predicted values for the target variable.\n",
    "# The output will be an array containing the predicted values for 'Impressions' for the given set of features.\n",
    "model.predict(features)\n"
   ]
  }
 ],
 "metadata": {
  "kernelspec": {
   "display_name": "Python 3",
   "language": "python",
   "name": "python3"
  },
  "language_info": {
   "codemirror_mode": {
    "name": "ipython",
    "version": 3
   },
   "file_extension": ".py",
   "mimetype": "text/x-python",
   "name": "python",
   "nbconvert_exporter": "python",
   "pygments_lexer": "ipython3",
   "version": "3.10.5"
  },
  "orig_nbformat": 4
 },
 "nbformat": 4,
 "nbformat_minor": 2
}
